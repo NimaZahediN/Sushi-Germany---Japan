{
  "cells": [
    {
      "cell_type": "code",
      "source": [
        "import pandas as pd\n",
        "import tiktoken\n",
        "import openai\n",
        "# from openai.embeddings_utils import get_embedding\n",
        "from openai import OpenAI"
      ],
      "outputs": [],
      "execution_count": 5,
      "metadata": {
        "gather": {
          "logged": 1712433995446
        }
      }
    },
    {
      "cell_type": "code",
      "source": [
        "client = OpenAI(\n",
        "    api_key = 'xxx'\n",
        ")\n"
      ],
      "outputs": [],
      "execution_count": 6,
      "metadata": {
        "jupyter": {
          "source_hidden": false,
          "outputs_hidden": false
        },
        "nteract": {
          "transient": {
            "deleting": false
          }
        },
        "gather": {
          "logged": 1712433997134
        }
      }
    },
    {
      "cell_type": "code",
      "source": [
        "from openai import OpenAI\n",
        "\n",
        "\n",
        "def get_embedding(text, model=\"text-embedding-ada-002\"):\n",
        "    text = text.replace(\"\\n\", \" \")  # Clean the input text\n",
        "    response = client.embeddings.create(input=[text], model=model)\n",
        "    return response.data[0].embedding\n",
        "\n",
        "input_texts = [\"Sushi\", \"Germany\", \"Japan\"]\n",
        "\n",
        "embeddings = [get_embedding(text) for text in input_texts]\n",
        "\n",
        "import numpy as np\n",
        "\n",
        "sushi_embedding, germany_embedding, japan_embedding = [np.array(embed) for embed in embeddings]\n",
        "\n",
        "analogy_embedding = sushi_embedding + germany_embedding - japan_embedding"
      ],
      "outputs": [],
      "execution_count": 7,
      "metadata": {
        "jupyter": {
          "source_hidden": false,
          "outputs_hidden": false
        },
        "nteract": {
          "transient": {
            "deleting": false
          }
        },
        "gather": {
          "logged": 1712433999498
        }
      }
    },
    {
      "cell_type": "code",
      "source": [
        "import requests\n",
        "\n",
        "# Define the API endpoint URL\n",
        "url = 'https://api.semanticscholar.org/graph/v1/paper/search'\n",
        "\n",
        "# More specific query parameter\n",
        "query_params = {'query': 'quantum computing'}\n",
        "\n",
        "# Directly define the API key (Reminder: Securely handle API keys in production environments)\n",
        "api_key = 'your api key goes here'  # Replace with the actual API key\n",
        "\n",
        "# Define headers with API key\n",
        "headers = {'x-api-key': api_key}\n",
        "\n",
        "# Send the API request\n",
        "response = requests.get(url, params=query_params, headers=headers)\n",
        "\n",
        "# Check response status\n",
        "if response.status_code == 200:\n",
        "   response_data = response.json()\n",
        "   # Process and print the response data as needed\n",
        "   print(response_data)\n",
        "else:\n",
        "   print(f\"Request failed with status code {response.status_code}: {response.text}\")"
      ],
      "outputs": [
        {
          "output_type": "stream",
          "name": "stdout",
          "text": "Request failed with status code 403: {\"message\":\"Forbidden\"}\n"
        },
        {
          "output_type": "stream",
          "name": "stderr",
          "text": "Bad pipe message: %s [b'\\xb3\\x17[Nj\\xea4\\xc0\\xc7\\x93\\xa18\\x1a\\xa7\\t\\xdd\\x03\\x9f 2\\xba\\x1a\\x96J*\\x9d\\x0b@\\x86z', b'\\xa9\\xb9\\xd4\\x02\\xad\\x8f', b'LcP\\xf3\\xcbB\\xe0\\xe6\\xa9 \\xb8\\x00\\x08\\x13\\x02\\x13\\x03\\x13\\x01\\x00\\xff\\x01\\x00\\x00\\x8f\\x00\\x00\\x00\\x0e\\x00\\x0c\\x00\\x00\\t127.0.0.1\\x00\\x0b\\x00\\x04\\x03\\x00\\x01\\x02\\x00\\n\\x00\\x0c\\x00\\n\\x00\\x1d\\x00\\x17\\x00\\x1e\\x00\\x19\\x00\\x18\\x00#\\x00\\x00\\x00\\x16\\x00\\x00\\x00\\x17\\x00\\x00\\x00\\r\\x00\\x1e\\x00\\x1c\\x04\\x03\\x05\\x03\\x06\\x03']\nBad pipe message: %s [b'\\x08\\x08\\x08\\t\\x08\\n\\x08', b'\\x04\\x08\\x05\\x08\\x06\\x04\\x01\\x05\\x01\\x06']\nBad pipe message: %s [b'']\nBad pipe message: %s [b'\\x03\\x02\\x03\\x04\\x00-\\x00\\x02\\x01\\x01\\x003\\x00&\\x00$\\x00\\x1d\\x00 g\\xd03\\xf6\\xd4(\\x8e0\\x93~$e\\xea\\xce=q\\xbb\\xack\\xa90k']\nBad pipe message: %s [b'\\x14-\\x98f9\\x80\\xc5hp\\x92\\xd2|\\xca\\xa6\\xf4>\\x8b\\xfd\\x00\\x00|\\xc0,\\xc00']\nBad pipe message: %s [b\"\\xdc+rn\\x06\\xec\\xd1\\xcd\\xbeQ\\x99%\\xf6\\x8a\\xd7\\xfc_\\xfe\\x00\\x00\\xa6\\xc0,\\xc00\\x00\\xa3\\x00\\x9f\\xcc\\xa9\\xcc\\xa8\\xcc\\xaa\\xc0\\xaf\\xc0\\xad\\xc0\\xa3\\xc0\\x9f\\xc0]\\xc0a\\xc0W\\xc0S\\xc0+\\xc0/\\x00\\xa2\\x00\\x9e\\xc0\\xae\\xc0\\xac\\xc0\\xa2\\xc0\\x9e\\xc0\\\\\\xc0`\\xc0V\\xc0R\\xc0$\\xc0(\\x00k\\x00j\\xc0s\\xc0w\\x00\\xc4\\x00\\xc3\\xc0#\\xc0'\\x00g\\x00@\\xc0r\\xc0v\\x00\\xbe\\x00\\xbd\\xc0\\n\\xc0\\x14\\x009\\x008\\x00\\x88\\x00\\x87\\xc0\\t\\xc0\\x13\\x003\\x002\\x00\\x9a\\x00\\x99\\x00E\\x00D\\xc0\\x07\\xc0\\x11\\xc0\\x08\\xc0\\x12\\x00\\x16\\x00\\x13\\x00\\x9d\\xc0\\xa1\\xc0\\x9d\\xc0Q\\x00\\x9c\\xc0\\xa0\\xc0\\x9c\\xc0P\\x00=\\x00\\xc0\\x00<\\x00\\xba\\x005\\x00\\x84\\x00/\\x00\\x96\\x00A\\x00\\x05\\x00\\n\\x00\\xff\\x01\\x00\\x00j\\x00\\x00\\x00\\x0e\\x00\\x0c\\x00\\x00\\t127.0.0.1\\x00\\x0b\\x00\\x04\\x03\\x00\\x01\\x02\\x00\\n\\x00\\x0c\\x00\\n\\x00\\x1d\\x00\\x17\\x00\", b'\\x19\\x00\\x18\\x00#\\x00\\x00\\x00\\x16\\x00\\x00\\x00\\x17\\x00\\x00\\x00\\r\\x000\\x00.\\x04\\x03\\x05\\x03\\x06\\x03\\x08\\x07']\nBad pipe message: %s [b'\\x08\\t\\x08\\n\\x08\\x0b\\x08']\nBad pipe message: %s [b'\\x05\\x08\\x06']\nBad pipe message: %s [b'\\x05\\x01\\x06', b'', b'\\x03\\x03']\nBad pipe message: %s [b'']\nBad pipe message: %s [b'', b'\\x02']\nBad pipe message: %s [b'\\x05\\x02\\x06']\nBad pipe message: %s [b'\\xcd\\x92\\xe6\\xf7\\xfb;\\xf5a}\\x80\\xfd\\x9f\\xff\\x03\\xb4\\xd4\\xee\\xec\\x00\\x00\\xa2\\xc0\\x14\\xc0\\n\\x009\\x008\\x007\\x006\\x00\\x88\\x00\\x87\\x00\\x86\\x00\\x85\\xc0\\x19\\x00:\\x00\\x89\\xc0\\x0f\\xc0\\x05\\x005\\x00\\x84\\xc0\\x13\\xc0\\t\\x003\\x002\\x001\\x000\\x00\\x9a\\x00\\x99\\x00\\x98\\x00\\x97\\x00E\\x00D\\x00C\\x00B\\xc0\\x18\\x004\\x00\\x9b\\x00F\\xc0\\x0e\\xc0\\x04\\x00/\\x00\\x96\\x00A\\x00\\x07\\xc0\\x11\\xc0\\x07\\xc0\\x16\\x00\\x18\\xc0\\x0c\\xc0\\x02\\x00\\x05\\x00\\x04\\xc0\\x12\\xc0\\x08\\x00\\x16\\x00\\x13\\x00\\x10\\x00\\r\\xc0\\x17\\x00\\x1b\\xc0\\r\\xc0\\x03\\x00\\n\\x00\\x15\\x00\\x12']\nBad pipe message: %s [b\"\\xde\\x9e\\x9a\\xe7\\xd2\\x82'z\\xcb\\xb7q\\xf6C\\x1b\\xb5\\x0c\\x9c\\xc7\\x00\\x00>\\xc0\\x14\\xc0\\n\\x009\\x008\\x007\\x006\\xc0\\x0f\\xc0\\x05\\x005\\xc0\\x13\\xc0\\t\\x003\\x002\\x001\\x000\\xc0\\x0e\\xc0\\x04\\x00/\\x00\\x9a\\x00\\x99\\x00\\x98\\x00\\x97\\x00\\x96\\x00\\x07\"]\nBad pipe message: %s [b'\\x98\\xf2\\xa3j[\\x81\\x8fU\\xa3\\x02\\x9e\\x8d\\x08\\xda~a\\x19\\xe0\\x00\\x00\\xa2\\xc0\\x14\\xc0\\n\\x009\\x008\\x007\\x006\\x00\\x88\\x00\\x87\\x00\\x86\\x00\\x85\\xc0\\x19\\x00:\\x00\\x89\\xc0\\x0f\\xc0\\x05\\x005\\x00\\x84\\xc0\\x13\\xc0\\t\\x003\\x002\\x001\\x000\\x00\\x9a\\x00\\x99\\x00\\x98\\x00\\x97\\x00E\\x00D\\x00C\\x00B\\xc0\\x18\\x004\\x00\\x9b\\x00F\\xc0\\x0e\\xc0\\x04\\x00/\\x00\\x96\\x00A\\x00\\x07\\xc0\\x11\\xc0\\x07\\xc0\\x16\\x00\\x18\\xc0\\x0c\\xc0\\x02\\x00\\x05\\x00\\x04\\xc0\\x12\\xc0\\x08\\x00\\x16\\x00\\x13\\x00\\x10\\x00\\r\\xc0\\x17\\x00\\x1b\\xc0\\r\\xc0\\x03\\x00\\n\\x00\\x15\\x00\\x12\\x00\\x0f\\x00\\x0c\\x00\\x1a\\x00\\t\\x00\\x14\\x00\\x11\\x00\\x19\\x00\\x08\\x00\\x06\\x00\\x17\\x00\\x03\\xc0\\x10\\xc0\\x06\\xc0\\x15\\xc0\\x0b\\xc0\\x01\\x00\\x02\\x00\\x01\\x00\\xff\\x02\\x01\\x00\\x00C\\x00\\x00\\x00\\x0e\\x00\\x0c\\x00\\x00\\t127.0.0.1\\x00\\x0b\\x00\\x04\\x03\\x00\\x01\\x02\\x00\\n\\x00\\x1c\\x00\\x1a\\x00\\x17\\x00\\x19\\x00\\x1c\\x00\\x1b\\x00\\x18\\x00\\x1a\\x00\\x16\\x00\\x0e\\x00\\r\\x00\\x0b\\x00\\x0c\\x00\\t\\x00\\n\\x00#\\x00\\x00\\x00\\x0f\\x00']\nBad pipe message: %s [b'4\\xf8\\x03\\x10\\xfd\\xda6\\x93X\\xb4P\\x96\\xddqrk\\xe1\\x04\\x00\\x00\\xa2\\xc0\\x14\\xc0\\n\\x009\\x008\\x007\\x006\\x00\\x88\\x00\\x87\\x00\\x86\\x00\\x85\\xc0\\x19\\x00:\\x00\\x89\\xc0\\x0f\\xc0\\x05\\x005\\x00\\x84\\xc0\\x13\\xc0\\t\\x003\\x002\\x001\\x000\\x00\\x9a\\x00\\x99\\x00\\x98\\x00\\x97\\x00E\\x00D\\x00C\\x00B\\xc0\\x18\\x004\\x00\\x9b\\x00F\\xc0\\x0e\\xc0\\x04\\x00/\\x00\\x96\\x00A\\x00\\x07\\xc0\\x11\\xc0\\x07\\xc0\\x16\\x00\\x18\\xc0\\x0c\\xc0\\x02\\x00\\x05\\x00\\x04\\xc0\\x12\\xc0\\x08\\x00\\x16\\x00\\x13\\x00\\x10\\x00\\r\\xc0\\x17\\x00\\x1b\\xc0\\r\\xc0\\x03\\x00\\n\\x00\\x15\\x00\\x12\\x00\\x0f\\x00\\x0c\\x00\\x1a\\x00\\t\\x00\\x14\\x00\\x11\\x00\\x19\\x00\\x08\\x00\\x06\\x00', b'\\x03\\xc0\\x10\\xc0\\x06\\xc0\\x15\\xc0\\x0b\\xc0\\x01\\x00\\x02\\x00\\x01\\x00\\xff\\x02\\x01\\x00\\x15\\x03']\nBad pipe message: %s [b\"\\x9d\\xe0\\x8d\\xf9\\xb7\\xb0\\xc9\\xf5\\xd9&\\x16\\xdb\\x93\\x06\\xd9n\\x1a@\\x00\\x00\\x86\\xc00\\xc0,\\xc0(\\xc0$\\xc0\\x14\\xc0\\n\\x00\\xa5\\x00\\xa3\\x00\\xa1\\x00\\x9f\\x00k\\x00j\\x00i\\x00h\\x009\\x008\\x007\\x006\\xc02\\xc0.\\xc0*\\xc0&\\xc0\\x0f\\xc0\\x05\\x00\\x9d\\x00=\\x005\\xc0/\\xc0+\\xc0'\\xc0#\\xc0\\x13\\xc0\\t\\x00\\xa4\\x00\\xa2\\x00\\xa0\\x00\\x9e\\x00g\\x00@\\x00?\\x00>\\x003\\x002\\x001\\x000\\xc01\\xc0-\\xc0)\\xc0%\\xc0\\x0e\\xc0\\x04\\x00\\x9c\\x00<\\x00/\\x00\\x9a\\x00\\x99\\x00\\x98\\x00\\x97\\x00\\x96\\x00\\x07\\xc0\\x11\\xc0\\x07\\xc0\\x0c\\xc0\\x02\\x00\\x05\\x00\\x04\\x00\\xff\\x02\\x01\\x00\\x00g\\x00\\x00\\x00\\x0e\\x00\\x0c\\x00\\x00\\t127.0.0.1\\x00\\x0b\\x00\\x04\\x03\\x00\\x01\\x02\\x00\\n\\x00\\x1c\\x00\\x1a\\x00\\x17\\x00\\x19\\x00\\x1c\\x00\\x1b\\x00\\x18\\x00\\x1a\\x00\\x16\\x00\\x0e\\x00\\r\\x00\\x0b\\x00\\x0c\\x00\\t\\x00\\n\\x00#\\x00\\x00\\x00\\r\\x00 \\x00\\x1e\\x06\\x01\\x06\\x02\\x06\\x03\\x05\\x01\\x05\\x02\\x05\\x03\\x04\", b'']\nBad pipe message: %s [b'\\x03']\nBad pipe message: %s [b'\\x03\\x02', b'\\x02\\x01', b'\\x02']\nBad pipe message: %s [b'\\x0f\\x00']\nBad pipe message: %s [b'\\x19-\\xbc\\xfb\\xc4F\\xaa\\xe95\\x93\\x82\\xc8B\\x08\\xfck\\x7f\\xdf\\x00\\x00\\xf4\\xc00\\xc0,\\xc0(\\xc0$\\xc0\\x14\\xc0\\n\\x00\\xa5\\x00\\xa3\\x00\\xa1\\x00\\x9f']\n"
        }
      ],
      "execution_count": 9,
      "metadata": {
        "jupyter": {
          "source_hidden": false,
          "outputs_hidden": false
        },
        "nteract": {
          "transient": {
            "deleting": false
          }
        },
        "gather": {
          "logged": 1712434253506
        }
      }
    },
    {
      "cell_type": "code",
      "source": [
        "# Find the most similar word to the analogy embedding\n",
        "response = openai.Completion.create(\n",
        "    engine=\"text-davinci-002\",\n",
        "    prompt=f\"Find the most similar word to the following embedding:\\n{analogy_embedding}\\n\",\n",
        "    max_tokens=1,\n",
        "    n=1,\n",
        "    stop=None,\n",
        "    temperature=0.5,\n",
        ")\n",
        "\n",
        "similar_word = response.choices[0].text.strip()\n",
        "\n",
        "print(f\"Sushi + Germany - Japan = {similar_word}\")"
      ],
      "outputs": [
        {
          "output_type": "error",
          "ename": "APIRemovedInV1",
          "evalue": "\n\nYou tried to access openai.Completion, but this is no longer supported in openai>=1.0.0 - see the README at https://github.com/openai/openai-python for the API.\n\nYou can run `openai migrate` to automatically upgrade your codebase to use the 1.0.0 interface. \n\nAlternatively, you can pin your installation to the old version, e.g. `pip install openai==0.28`\n\nA detailed migration guide is available here: https://github.com/openai/openai-python/discussions/742\n",
          "traceback": [
            "\u001b[0;31m---------------------------------------------------------------------------\u001b[0m",
            "\u001b[0;31mAPIRemovedInV1\u001b[0m                            Traceback (most recent call last)",
            "Cell \u001b[0;32mIn[9], line 2\u001b[0m\n\u001b[1;32m      1\u001b[0m \u001b[38;5;66;03m# Find the most similar word to the analogy embedding\u001b[39;00m\n\u001b[0;32m----> 2\u001b[0m response \u001b[38;5;241m=\u001b[39m \u001b[43mopenai\u001b[49m\u001b[38;5;241;43m.\u001b[39;49m\u001b[43mCompletion\u001b[49m\u001b[38;5;241;43m.\u001b[39;49m\u001b[43mcreate\u001b[49m\u001b[43m(\u001b[49m\n\u001b[1;32m      3\u001b[0m \u001b[43m    \u001b[49m\u001b[43mengine\u001b[49m\u001b[38;5;241;43m=\u001b[39;49m\u001b[38;5;124;43m\"\u001b[39;49m\u001b[38;5;124;43mtext-davinci-002\u001b[39;49m\u001b[38;5;124;43m\"\u001b[39;49m\u001b[43m,\u001b[49m\n\u001b[1;32m      4\u001b[0m \u001b[43m    \u001b[49m\u001b[43mprompt\u001b[49m\u001b[38;5;241;43m=\u001b[39;49m\u001b[38;5;124;43mf\u001b[39;49m\u001b[38;5;124;43m\"\u001b[39;49m\u001b[38;5;124;43mFind the most similar word to the following embedding:\u001b[39;49m\u001b[38;5;130;43;01m\\n\u001b[39;49;00m\u001b[38;5;132;43;01m{\u001b[39;49;00m\u001b[43manalogy_embedding\u001b[49m\u001b[38;5;132;43;01m}\u001b[39;49;00m\u001b[38;5;130;43;01m\\n\u001b[39;49;00m\u001b[38;5;124;43m\"\u001b[39;49m\u001b[43m,\u001b[49m\n\u001b[1;32m      5\u001b[0m \u001b[43m    \u001b[49m\u001b[43mmax_tokens\u001b[49m\u001b[38;5;241;43m=\u001b[39;49m\u001b[38;5;241;43m1\u001b[39;49m\u001b[43m,\u001b[49m\n\u001b[1;32m      6\u001b[0m \u001b[43m    \u001b[49m\u001b[43mn\u001b[49m\u001b[38;5;241;43m=\u001b[39;49m\u001b[38;5;241;43m1\u001b[39;49m\u001b[43m,\u001b[49m\n\u001b[1;32m      7\u001b[0m \u001b[43m    \u001b[49m\u001b[43mstop\u001b[49m\u001b[38;5;241;43m=\u001b[39;49m\u001b[38;5;28;43;01mNone\u001b[39;49;00m\u001b[43m,\u001b[49m\n\u001b[1;32m      8\u001b[0m \u001b[43m    \u001b[49m\u001b[43mtemperature\u001b[49m\u001b[38;5;241;43m=\u001b[39;49m\u001b[38;5;241;43m0.5\u001b[39;49m\u001b[43m,\u001b[49m\n\u001b[1;32m      9\u001b[0m \u001b[43m)\u001b[49m\n\u001b[1;32m     11\u001b[0m similar_word \u001b[38;5;241m=\u001b[39m response\u001b[38;5;241m.\u001b[39mchoices[\u001b[38;5;241m0\u001b[39m]\u001b[38;5;241m.\u001b[39mtext\u001b[38;5;241m.\u001b[39mstrip()\n\u001b[1;32m     13\u001b[0m \u001b[38;5;28mprint\u001b[39m(\u001b[38;5;124mf\u001b[39m\u001b[38;5;124m\"\u001b[39m\u001b[38;5;124mSushi + Germany - Japan = \u001b[39m\u001b[38;5;132;01m{\u001b[39;00msimilar_word\u001b[38;5;132;01m}\u001b[39;00m\u001b[38;5;124m\"\u001b[39m)\n",
            "File \u001b[0;32m/anaconda/envs/azureml_py310_sdkv2/lib/python3.10/site-packages/openai/lib/_old_api.py:39\u001b[0m, in \u001b[0;36mAPIRemovedInV1Proxy.__call__\u001b[0;34m(self, *_args, **_kwargs)\u001b[0m\n\u001b[1;32m     38\u001b[0m \u001b[38;5;28;01mdef\u001b[39;00m \u001b[38;5;21m__call__\u001b[39m(\u001b[38;5;28mself\u001b[39m, \u001b[38;5;241m*\u001b[39m_args: Any, \u001b[38;5;241m*\u001b[39m\u001b[38;5;241m*\u001b[39m_kwargs: Any) \u001b[38;5;241m-\u001b[39m\u001b[38;5;241m>\u001b[39m Any:\n\u001b[0;32m---> 39\u001b[0m     \u001b[38;5;28;01mraise\u001b[39;00m APIRemovedInV1(symbol\u001b[38;5;241m=\u001b[39m\u001b[38;5;28mself\u001b[39m\u001b[38;5;241m.\u001b[39m_symbol)\n",
            "\u001b[0;31mAPIRemovedInV1\u001b[0m: \n\nYou tried to access openai.Completion, but this is no longer supported in openai>=1.0.0 - see the README at https://github.com/openai/openai-python for the API.\n\nYou can run `openai migrate` to automatically upgrade your codebase to use the 1.0.0 interface. \n\nAlternatively, you can pin your installation to the old version, e.g. `pip install openai==0.28`\n\nA detailed migration guide is available here: https://github.com/openai/openai-python/discussions/742\n"
          ]
        }
      ],
      "execution_count": 9,
      "metadata": {
        "jupyter": {
          "source_hidden": false,
          "outputs_hidden": false
        },
        "nteract": {
          "transient": {
            "deleting": false
          }
        },
        "gather": {
          "logged": 1712433309177
        }
      }
    },
    {
      "cell_type": "code",
      "source": [
        "def get_embedding(text_to_embed):\n",
        "    response = openai.Embedding.create(\n",
        "        model=\"text-embedding-ada-002\",\n",
        "        input=[text_to_embed]\n",
        "    )\n",
        "    # Extract the embedding as a list of floats\n",
        "    embedding = response[\"data\"][0][\"embedding\"]\n",
        "    return embedding"
      ],
      "outputs": [],
      "execution_count": null,
      "metadata": {
        "jupyter": {
          "source_hidden": false,
          "outputs_hidden": false
        },
        "nteract": {
          "transient": {
            "deleting": false
          }
        }
      }
    },
    {
      "cell_type": "code",
      "source": [
        "response = client.embeddings.create(\n",
        "    input=\"Your text string goes here\",\n",
        "    model=\"text-embedding-ada-002\"\n",
        ")\n",
        "\n",
        "print(response.data[0].embedding)"
      ],
      "outputs": [],
      "execution_count": null,
      "metadata": {
        "jupyter": {
          "source_hidden": false,
          "outputs_hidden": false
        },
        "nteract": {
          "transient": {
            "deleting": false
          }
        },
        "gather": {
          "logged": 1712429143872
        }
      }
    },
    {
      "cell_type": "code",
      "source": [
        "\n",
        "input_text_1 = \"Sushi\"\n",
        "input_text_2 = \"Germany\"\n",
        "input_text_3 = \"Japan\"\n",
        "\n",
        "\n",
        "input_text_1 = client.embeddings.create(\n",
        "    input= input_text_1,\n",
        "    model=\"text-embedding-ada-002\"\n",
        ")\n",
        "\n",
        "input_text_2 = client.embeddings.create(\n",
        "    input= input_text_2,\n",
        "    model=\"text-embedding-ada-002\"\n",
        ")\n",
        "\n",
        "input_text_3 = client.embeddings.create(\n",
        "    input= input_text_3,\n",
        "    model=\"text-embedding-ada-002\"\n",
        ")\n"
      ],
      "outputs": [],
      "execution_count": 3,
      "metadata": {
        "jupyter": {
          "source_hidden": false,
          "outputs_hidden": false
        },
        "nteract": {
          "transient": {
            "deleting": false
          }
        },
        "gather": {
          "logged": 1712432439865
        }
      }
    },
    {
      "cell_type": "code",
      "source": [
        "def get_embedding(text_to_embed):\n",
        "    response = openai.Embedding.create(\n",
        "        model=\"text-embedding-ada-002\",\n",
        "        input=[text_to_embed]\n",
        "    )\n",
        "    # Extract the embedding as a list of floats\n",
        "    embedding = response[\"data\"][0][\"embedding\"]\n",
        "    return embedding\n",
        "\n",
        "# Example usage\n",
        "input_text_1 = \"Sushi\"\n",
        "input_text_2 = \"Germany\"\n",
        "input_text_3 = \"Japan\"\n",
        "\n",
        "sushi_embedding = get_embedding(input_text_1)\n",
        "germany_embedding = get_embedding(input_text_2)\n",
        "japan_embedding = get_embedding(input_text_3)\n",
        "\n",
        "# Perform the vector arithmetic for the analogy\n",
        "# Note: You'll need additional logic here to convert these embeddings into a form suitable for arithmetic operations, as they are just lists of floats.\n"
      ],
      "outputs": [
        {
          "output_type": "error",
          "ename": "APIRemovedInV1",
          "evalue": "\n\nYou tried to access openai.Embedding, but this is no longer supported in openai>=1.0.0 - see the README at https://github.com/openai/openai-python for the API.\n\nYou can run `openai migrate` to automatically upgrade your codebase to use the 1.0.0 interface. \n\nAlternatively, you can pin your installation to the old version, e.g. `pip install openai==0.28`\n\nA detailed migration guide is available here: https://github.com/openai/openai-python/discussions/742\n",
          "traceback": [
            "\u001b[0;31m---------------------------------------------------------------------------\u001b[0m",
            "\u001b[0;31mAPIRemovedInV1\u001b[0m                            Traceback (most recent call last)",
            "Cell \u001b[0;32mIn[3], line 15\u001b[0m\n\u001b[1;32m     12\u001b[0m input_text_2 \u001b[38;5;241m=\u001b[39m \u001b[38;5;124m\"\u001b[39m\u001b[38;5;124mGermany\u001b[39m\u001b[38;5;124m\"\u001b[39m\n\u001b[1;32m     13\u001b[0m input_text_3 \u001b[38;5;241m=\u001b[39m \u001b[38;5;124m\"\u001b[39m\u001b[38;5;124mJapan\u001b[39m\u001b[38;5;124m\"\u001b[39m\n\u001b[0;32m---> 15\u001b[0m sushi_embedding \u001b[38;5;241m=\u001b[39m \u001b[43mget_embedding\u001b[49m\u001b[43m(\u001b[49m\u001b[43minput_text_1\u001b[49m\u001b[43m)\u001b[49m\n\u001b[1;32m     16\u001b[0m germany_embedding \u001b[38;5;241m=\u001b[39m get_embedding(input_text_2)\n\u001b[1;32m     17\u001b[0m japan_embedding \u001b[38;5;241m=\u001b[39m get_embedding(input_text_3)\n",
            "Cell \u001b[0;32mIn[3], line 2\u001b[0m, in \u001b[0;36mget_embedding\u001b[0;34m(text_to_embed)\u001b[0m\n\u001b[1;32m      1\u001b[0m \u001b[38;5;28;01mdef\u001b[39;00m \u001b[38;5;21mget_embedding\u001b[39m(text_to_embed):\n\u001b[0;32m----> 2\u001b[0m     response \u001b[38;5;241m=\u001b[39m \u001b[43mopenai\u001b[49m\u001b[38;5;241;43m.\u001b[39;49m\u001b[43mEmbedding\u001b[49m\u001b[38;5;241;43m.\u001b[39;49m\u001b[43mcreate\u001b[49m\u001b[43m(\u001b[49m\n\u001b[1;32m      3\u001b[0m \u001b[43m        \u001b[49m\u001b[43mmodel\u001b[49m\u001b[38;5;241;43m=\u001b[39;49m\u001b[38;5;124;43m\"\u001b[39;49m\u001b[38;5;124;43mtext-embedding-ada-002\u001b[39;49m\u001b[38;5;124;43m\"\u001b[39;49m\u001b[43m,\u001b[49m\n\u001b[1;32m      4\u001b[0m \u001b[43m        \u001b[49m\u001b[38;5;28;43minput\u001b[39;49m\u001b[38;5;241;43m=\u001b[39;49m\u001b[43m[\u001b[49m\u001b[43mtext_to_embed\u001b[49m\u001b[43m]\u001b[49m\n\u001b[1;32m      5\u001b[0m \u001b[43m    \u001b[49m\u001b[43m)\u001b[49m\n\u001b[1;32m      6\u001b[0m     \u001b[38;5;66;03m# Extract the embedding as a list of floats\u001b[39;00m\n\u001b[1;32m      7\u001b[0m     embedding \u001b[38;5;241m=\u001b[39m response[\u001b[38;5;124m\"\u001b[39m\u001b[38;5;124mdata\u001b[39m\u001b[38;5;124m\"\u001b[39m][\u001b[38;5;241m0\u001b[39m][\u001b[38;5;124m\"\u001b[39m\u001b[38;5;124membedding\u001b[39m\u001b[38;5;124m\"\u001b[39m]\n",
            "File \u001b[0;32m/anaconda/envs/azureml_py310_sdkv2/lib/python3.10/site-packages/openai/lib/_old_api.py:39\u001b[0m, in \u001b[0;36mAPIRemovedInV1Proxy.__call__\u001b[0;34m(self, *_args, **_kwargs)\u001b[0m\n\u001b[1;32m     38\u001b[0m \u001b[38;5;28;01mdef\u001b[39;00m \u001b[38;5;21m__call__\u001b[39m(\u001b[38;5;28mself\u001b[39m, \u001b[38;5;241m*\u001b[39m_args: Any, \u001b[38;5;241m*\u001b[39m\u001b[38;5;241m*\u001b[39m_kwargs: Any) \u001b[38;5;241m-\u001b[39m\u001b[38;5;241m>\u001b[39m Any:\n\u001b[0;32m---> 39\u001b[0m     \u001b[38;5;28;01mraise\u001b[39;00m APIRemovedInV1(symbol\u001b[38;5;241m=\u001b[39m\u001b[38;5;28mself\u001b[39m\u001b[38;5;241m.\u001b[39m_symbol)\n",
            "\u001b[0;31mAPIRemovedInV1\u001b[0m: \n\nYou tried to access openai.Embedding, but this is no longer supported in openai>=1.0.0 - see the README at https://github.com/openai/openai-python for the API.\n\nYou can run `openai migrate` to automatically upgrade your codebase to use the 1.0.0 interface. \n\nAlternatively, you can pin your installation to the old version, e.g. `pip install openai==0.28`\n\nA detailed migration guide is available here: https://github.com/openai/openai-python/discussions/742\n"
          ]
        }
      ],
      "execution_count": 3,
      "metadata": {
        "jupyter": {
          "source_hidden": false,
          "outputs_hidden": false
        },
        "nteract": {
          "transient": {
            "deleting": false
          }
        },
        "gather": {
          "logged": 1712432579434
        }
      }
    },
    {
      "cell_type": "code",
      "source": [
        "! openai migrate"
      ],
      "outputs": [
        {
          "output_type": "stream",
          "name": "stdout",
          "text": "Retrieving Grit CLI metadata from https://api.keygen.sh/v1/accounts/custodian-dev/artifacts/marzano-linux-x64\nFetching release URL from: https://api.keygen.sh//v1/accounts/custodian-dev/artifacts/workflow_runner-linux-x64\nFetching release URL from: https://api.keygen.sh//v1/accounts/custodian-dev/artifacts/cli-linux-x64\nFetching release URL from: https://api.keygen.sh//v1/accounts/custodian-dev/artifacts/gouda-linux-x64\nFetching release URL from: https://api.keygen.sh//v1/accounts/custodian-dev/artifacts/timekeeper-linux-x64\nFetching release URL from: https://api.keygen.sh//v1/accounts/custodian-dev/artifacts/marzano-linux-x64\n\n\u001b[2K\u001b[1Am\u001b[0m \u001b[1m\u001b[2mFinding files                                                                 \u001b[0m\u001b[1A\n\u001b[2K\u001b[1Am\u001b[0m \u001b[1m\u001b[2mFinding files                                                                 \u001b[0m\u001b[1A\n\u001b[1m\u001b[2mAnalyzing\u001b[0m \u001b[1m\u001b[2mFinding files                                                         \u001b[0m\n\u001b[2K\u001b[2A░░░░░░░░░░░░░░░░░░░░░░░░░░░░░░░░░░░░░░░░░░░░░░░░░░░░░░░░░░░░░░░░░░ 0/461\u001b[2A\n\u001b[1m\u001b[2mAnalyzing\u001b[0m \u001b[1m\u001b[2mFinding files                                                         \u001b[0m\n\u001b[2K\u001b[2A░░░░░░░░░░░░░░░░░░░░░░░░░░░░░░░░░░░░░░░░░░░░░░░░░░░░░░░░░░░░░░░░░░ 1/461\u001b[2A\n\u001b[1m\u001b[2mAnalyzing\u001b[0m \u001b[1m\u001b[2m./WHI/.env/lib/python3.8/site-packages/pip/_vendor/html5lib/filters/__\u001b[0m\n\u001b[2K\u001b[2A░░░░░░░░░░░░░░░░░░░░░░░░░░░░░░░░░░░░░░░░░░░░░░░░░░░░░░░░░░░░░░░░░░ 1/461\u001b[2A\n\u001b[1m\u001b[2mAnalyzing\u001b[0m \u001b[1m\u001b[2m./WHI/.env/lib/python3.8/site-packages/pip/_vendor/html5lib/filters/__\u001b[0m\n\u001b[2K\u001b[2A░░░░░░░░░░░░░░░░░░░░░░░░░░░░░░░░░░░░░░░░░░░░░░░░░░░░░░░░░░░░░░░░░░ 2/461\u001b[2A\n\u001b[1m\u001b[2mAnalyzing\u001b[0m \u001b[1m\u001b[2m./WHI/.env/lib/python3.8/site-packages/pip/_internal/models/scheme.py \u001b[0m\n\u001b[2K\u001b[2A░░░░░░░░░░░░░░░░░░░░░░░░░░░░░░░░░░░░░░░░░░░░░░░░░░░░░░░░░░░░░░░░░░ 2/461\u001b[2A\n\u001b[1m\u001b[2mAnalyzing\u001b[0m \u001b[1m\u001b[2m./WHI/.env/lib/python3.8/site-packages/pip/_internal/models/scheme.py \u001b[0m\n\u001b[2K\u001b[2A░░░░░░░░░░░░░░░░░░░░░░░░░░░░░░░░░░░░░░░░░░░░░░░░░░░░░░░░░░░░░░░░░░ 3/461\u001b[2A\n\u001b[1m\u001b[2mAnalyzing\u001b[0m \u001b[1m\u001b[2m./WHI/.env/lib/python3.8/site-packages/pip/_vendor/chardet/euctwprober\u001b[0m\n\u001b[2K\u001b[2A░░░░░░░░░░░░░░░░░░░░░░░░░░░░░░░░░░░░░░░░░░░░░░░░░░░░░░░░░░░░░░░░░░ 3/461\u001b[2A\n\u001b[1m\u001b[2mAnalyzing\u001b[0m \u001b[1m\u001b[2m./WHI/.env/lib/python3.8/site-packages/pip/_vendor/chardet/euctwprober\u001b[0m\n\u001b[2K\u001b[2A░░░░░░░░░░░░░░░░░░░░░░░░░░░░░░░░░░░░░░░░░░░░░░░░░░░░░░░░░░░░░░░░░░ 4/461\u001b[2A\n\u001b[1m\u001b[2mAnalyzing\u001b[0m \u001b[1m\u001b[2m./WHI/.env/lib/python3.8/site-packages/pip/_internal/distributions/ins\u001b[0m\n\u001b[2K\u001b[2A░░░░░░░░░░░░░░░░░░░░░░░░░░░░░░░░░░░░░░░░░░░░░░░░░░░░░░░░░░░░░░░░░░ 4/461\u001b[2A\n\u001b[1m\u001b[2mAnalyzing\u001b[0m \u001b[1m\u001b[2m./WHI/.env/lib/python3.8/site-packages/pip/_internal/distributions/ins\u001b[0m\n\u001b[2K\u001b[2A░░░░░░░░░░░░░░░░░░░░░░░░░░░░░░░░░░░░░░░░░░░░░░░░░░░░░░░░░░░░░░░░░░ 5/461\u001b[2A\n\u001b[1m\u001b[2mAnalyzing\u001b[0m \u001b[1m\u001b[2m./WHI/.env/lib/python3.8/site-packages/pip/_internal/operations/build/\u001b[0m\n\u001b[2K\u001b[2A░░░░░░░░░░░░░░░░░░░░░░░░░░░░░░░░░░░░░░░░░░░░░░░░░░░░░░░░░░░░░░░░░░ 5/461\u001b[2A\n\u001b[1m\u001b[2mAnalyzing\u001b[0m \u001b[1m\u001b[2m./WHI/.env/lib/python3.8/site-packages/pip/_internal/operations/build/\u001b[0m\n\u001b[2K\u001b[2A░░░░░░░░░░░░░░░░░░░░░░░░░░░░░░░░░░░░░░░░░░░░░░░░░░░░░░░░░░░░░░░░░░ 6/461\u001b[2A\n\u001b[1m\u001b[2mAnalyzing\u001b[0m \u001b[1m\u001b[2m./WHI/.env/lib/python3.8/site-packages/pip/_internal/operations/build/\u001b[0m\n\u001b[2K\u001b[2A░░░░░░░░░░░░░░░░░░░░░░░░░░░░░░░░░░░░░░░░░░░░░░░░░░░░░░░░░░░░░░░░░░ 6/461\u001b[2A\n\u001b[1m\u001b[2mAnalyzing\u001b[0m \u001b[1m\u001b[2m./WHI/.env/lib/python3.8/site-packages/pip/_internal/operations/build/\u001b[0m\n\u001b[2K\u001b[2A░░░░░░░░░░░░░░░░░░░░░░░░░░░░░░░░░░░░░░░░░░░░░░░░░░░░░░░░░░░░░░░░░░ 7/461\u001b[2A\n\u001b[1m\u001b[2mAnalyzing\u001b[0m \u001b[1m\u001b[2m./WHI/.env/lib/python3.8/site-packages/pip/_internal/commands/search.p\u001b[0m\n\u001b[2K\u001b[2A░░░░░░░░░░░░░░░░░░░░░░░░░░░░░░░░░░░░░░░░░░░░░░░░░░░░░░░░░░░░░░░░░░ 7/461\u001b[2A\n\u001b[1m\u001b[2mAnalyzing\u001b[0m \u001b[1m\u001b[2m./WHI/.env/lib/python3.8/site-packages/pip/_internal/commands/search.p\u001b[0m\n\u001b[2K\u001b[2A░░░░░░░░░░░░░░░░░░░░░░░░░░░░░░░░░░░░░░░░░░░░░░░░░░░░░░░░░░░░░░░░░░ 8/461\u001b[2A\n\u001b[1m\u001b[2mAnalyzing\u001b[0m \u001b[1m\u001b[2m./WHI/.env/lib/python3.8/site-packages/pip/_internal/utils/inject_secu\u001b[0m\n\u001b[2K\u001b[2A░░░░░░░░░░░░░░░░░░░░░░░░░░░░░░░░░░░░░░░░░░░░░░░░░░░░░░░░░░░░░░░░░░ 8/461\u001b[2A\n\u001b[1m\u001b[2mAnalyzing\u001b[0m \u001b[1m\u001b[2m./WHI/.env/lib/python3.8/site-packages/pip/_internal/utils/inject_secu\u001b[0m\n\u001b[2K\u001b[2A░░░░░░░░░░░░░░░░░░░░░░░░░░░░░░░░░░░░░░░░░░░░░░░░░░░░░░░░░░░░░░░░░░ 9/461\u001b[2A\n\u001b[1m\u001b[2mAnalyzing\u001b[0m \u001b[1m\u001b[2m./WHI/.env/lib/python3.8/site-packages/pip/_internal/distributions/sdi\u001b[0m\n\u001b[2K\u001b[2A░░░░░░░░░░░░░░░░░░░░░░░░░░░░░░░░░░░░░░░░░░░░░░░░░░░░░░░░░░░░░░░░░░ 9/461\u001b[2A\n\u001b[1m\u001b[2mAnalyzing\u001b[0m \u001b[1m\u001b[2m./WHI/.env/lib/python3.8/site-packages/pip/_internal/distributions/sdi\u001b[0m\n\u001b[2K\u001b[2A░░░░░░░░░░░░░░░░░░░░░░░░░░░░░░░░░░░░░░░░░░░░░░░░░░░░░░░░░░░░░░░░░ 10/461\u001b[2A\n\u001b[1m\u001b[2mAnalyzing\u001b[0m \u001b[1m\u001b[2m./WHI/.env/lib/python3.8/site-packages/pip/_internal/network/cache.py \u001b[0m\n\u001b[2K\u001b[2A░░░░░░░░░░░░░░░░░░░░░░░░░░░░░░░░░░░░░░░░░░░░░░░░░░░░░░░░░░░░░░░░░ 10/461\u001b[2A\n\u001b[1m\u001b[2mAnalyzing\u001b[0m \u001b[1m\u001b[2m./WHI/.env/lib/python3.8/site-packages/pip/_internal/network/cache.py \u001b[0m\n\u001b[2K\u001b[2A░░░░░░░░░░░░░░░░░░░░░░░░░░░░░░░░░░░░░░░░░░░░░░░░░░░░░░░░░░░░░░░░░ 11/461\u001b[2A\n\u001b[1m\u001b[2mAnalyzing\u001b[0m \u001b[1m\u001b[2m./WHI/.env/lib/python3.8/site-packages/pip/_internal/distributions/whe\u001b[0m\n\u001b[2K\u001b[2A░░░░░░░░░░░░░░░░░░░░░░░░░░░░░░░░░░░░░░░░░░░░░░░░░░░░░░░░░░░░░░░░░ 11/461\u001b[2A\n\u001b[1m\u001b[2mAnalyzing\u001b[0m \u001b[1m\u001b[2m./WHI/.env/lib/python3.8/site-packages/pip/_internal/distributions/whe\u001b[0m\n\u001b[2K\u001b[2A░░░░░░░░░░░░░░░░░░░░░░░░░░░░░░░░░░░░░░░░░░░░░░░░░░░░░░░░░░░░░░░░░ 12/461\u001b[2A\n\u001b[1m\u001b[2mAnalyzing\u001b[0m \u001b[1m\u001b[2m./WHI/.env/lib/python3.8/site-packages/pip/_internal/distributions/__i\u001b[0m\n\u001b[2K\u001b[2A░░░░░░░░░░░░░░░░░░░░░░░░░░░░░░░░░░░░░░░░░░░░░░░░░░░░░░░░░░░░░░░░░ 18/461\u001b[2A\n\u001b[1m\u001b[2mAnalyzing\u001b[0m \u001b[1m\u001b[2m./WHI/.env/lib/python3.8/site-packages/pip/_internal/commands/download\u001b[0m\n\u001b[2K\u001b[2A░░░░░░░░░░░░░░░░░░░░░░░░░░░░░░░░░░░░░░░░░░░░░░░░░░░░░░░░░░░░░░░░░ 20/461\u001b[2A\n\u001b[1m\u001b[2mAnalyzing\u001b[0m \u001b[1m\u001b[2m./WHI/.env/lib/python3.8/site-packages/pip/_internal/models/target_pyt\u001b[0m\n\u001b[2K\u001b[2A░░░░░░░░░░░░░░░░░░░░░░░░░░░░░░░░░░░░░░░░░░░░░░░░░░░░░░░░░░░░░░░░░ 27/461\u001b[2A\n\u001b[1m\u001b[2mAnalyzing\u001b[0m \u001b[1m\u001b[2m./WHI/.env/lib/python3.8/site-packages/pip/_internal/commands/wheel.py\u001b[0m\n\u001b[2K\u001b[2A░░░░░░░░░░░░░░░░░░░░░░░░░░░░░░░░░░░░░░░░░░░░░░░░░░░░░░░░░░░░░░░░░ 30/461\u001b[2A\n\u001b[1m\u001b[2mAnalyzing\u001b[0m \u001b[1m\u001b[2m./WHI/.env/lib/python3.8/site-packages/pip/_internal/operations/build/\u001b[0m\n\u001b[2K\u001b[2A░░░░░░░░░░░░░░░░░░░░░░░░░░░░░░░░░░░░░░░░░░░░░░░░░░░░░░░░░░░░░░░░░ 35/461\u001b[2A\n\u001b[1m\u001b[2mAnalyzing\u001b[0m \u001b[1m\u001b[2m./WHI/.env/lib/python3.8/site-packages/pip/_internal/index/collector.p\u001b[0m\n\u001b[2K\u001b[2A░░░░░░░░░░░░░░░░░░░░░░░░░░░░░░░░░░░░░░░░░░░░░░░░░░░░░░░░░░░░░░░░░ 39/461\u001b[2A\n\u001b[1m\u001b[2mAnalyzing\u001b[0m \u001b[1m\u001b[2m./WHI/.env/lib/python3.8/site-packages/pip/_internal/operations/check.\u001b[0m\n\u001b[2K\u001b[2A░░░░░░░░░░░░░░░░░░░░░░░░░░░░░░░░░░░░░░░░░░░░░░░░░░░░░░░░░░░░░░░░░ 42/461\u001b[2A\n\u001b[1m\u001b[2mAnalyzing\u001b[0m \u001b[1m\u001b[2m./WHI/.env/lib/python3.8/site-packages/pip/_internal/network/utils.py \u001b[0m\n\u001b[2K\u001b[2A░░░░░░░░░░░░░░░░░░░░░░░░░░░░░░░░░░░░░░░░░░░░░░░░░░░░░░░░░░░░░░░░░ 44/461\u001b[2A\n\u001b[1m\u001b[2mAnalyzing\u001b[0m \u001b[1m\u001b[2m./RTW/Production/build-simple-pipeline/train/train_component.py       \u001b[0m\n\u001b[2K\u001b[2A░░░░░░░░░░░░░░░░░░░░░░░░░░░░░░░░░░░░░░░░░░░░░░░░░░░░░░░░░░░░░░░░░ 51/461\u001b[2A\n\u001b[1m\u001b[2mAnalyzing\u001b[0m \u001b[1m\u001b[2m./WHI/.env/lib/python3.8/site-packages/pip/_internal/index/package_fin\u001b[0m\n\u001b[2K\u001b[2A█░░░░░░░░░░░░░░░░░░░░░░░░░░░░░░░░░░░░░░░░░░░░░░░░░░░░░░░░░░░░░░░░ 58/461\u001b[2A\n\u001b[1m\u001b[2mAnalyzing\u001b[0m \u001b[1m\u001b[2m./WHI/.env/lib/python3.8/site-packages/pip/_internal/req/__init__.py  \u001b[0m\n\u001b[2K\u001b[2A██░░░░░░░░░░░░░░░░░░░░░░░░░░░░░░░░░░░░░░░░░░░░░░░░░░░░░░░░░░░░░░░ 66/461\u001b[2A\n\u001b[1m\u001b[2mAnalyzing\u001b[0m \u001b[1m\u001b[2m./WHI/.env/lib/python3.8/site-packages/pip/_internal/operations/instal\u001b[0m\n\u001b[2K\u001b[2A███░░░░░░░░░░░░░░░░░░░░░░░░░░░░░░░░░░░░░░░░░░░░░░░░░░░░░░░░░░░░░░ 72/461\u001b[2A\n\u001b[1m\u001b[2mAnalyzing\u001b[0m \u001b[1m\u001b[2m./WHI/.env/lib/python3.8/site-packages/pip/_vendor/cachecontrol/compat\u001b[0m\n\u001b[2K\u001b[2A████░░░░░░░░░░░░░░░░░░░░░░░░░░░░░░░░░░░░░░░░░░░░░░░░░░░░░░░░░░░░░ 81/461\u001b[2A\n\u001b[1m\u001b[2mAnalyzing\u001b[0m \u001b[1m\u001b[2m./WHI/.env/lib/python3.8/site-packages/pip/_internal/resolution/legacy\u001b[0m\n\u001b[2K\u001b[2A█████░░░░░░░░░░░░░░░░░░░░░░░░░░░░░░░░░░░░░░░░░░░░░░░░░░░░░░░░░░░░ 86/461\u001b[2A\n\u001b[1m\u001b[2mAnalyzing\u001b[0m \u001b[1m\u001b[2m./WHI/.env/lib/python3.8/site-packages/pip/_internal/resolution/resolv\u001b[0m\n\u001b[2K\u001b[2A██████░░░░░░░░░░░░░░░░░░░░░░░░░░░░░░░░░░░░░░░░░░░░░░░░░░░░░░░░░░░ 90/461\u001b[2A\n\u001b[1m\u001b[2mAnalyzing\u001b[0m \u001b[1m\u001b[2m./WHI/.env/lib/python3.8/site-packages/pip/_vendor/cachecontrol/contro\u001b[0m\n\u001b[2K\u001b[2A███████░░░░░░░░░░░░░░░░░░░░░░░░░░░░░░░░░░░░░░░░░░░░░░░░░░░░░░░░░░ 96/461\u001b[2A\n\u001b[1m\u001b[2mAnalyzing\u001b[0m \u001b[1m\u001b[2m./WHI/.env/lib/python3.8/site-packages/pip/_internal/operations/instal\u001b[0m\n\u001b[2K\u001b[2A███████░░░░░░░░░░░░░░░░░░░░░░░░░░░░░░░░░░░░░░░░░░░░░░░░░░░░░░░░░░ 99/461\u001b[2A\n\u001b[1m\u001b[2mAnalyzing\u001b[0m \u001b[1m\u001b[2m./WHI/.env/lib/python3.8/site-packages/pip/_vendor/chardet/escsm.py   \u001b[0m\n\u001b[2K\u001b[2A████████░░░░░░░░░░░░░░░░░░░░░░░░░░░░░░░░░░░░░░░░░░░░░░░░░░░░░░░░ 103/461\u001b[2A\n\u001b[1m\u001b[2mAnalyzing\u001b[0m \u001b[1m\u001b[2m./WHI/.env/lib/python3.8/site-packages/pip/_vendor/chardet/eucjpprober\u001b[0m\n\u001b[2K\u001b[2A█████████░░░░░░░░░░░░░░░░░░░░░░░░░░░░░░░░░░░░░░░░░░░░░░░░░░░░░░░ 109/461\u001b[2A\n\u001b[1m\u001b[2mAnalyzing\u001b[0m \u001b[1m\u001b[2m./WHI/.env/lib/python3.8/site-packages/pip/_vendor/chardet/charsetprob\u001b[0m\n\u001b[2K\u001b[2A█████████░░░░░░░░░░░░░░░░░░░░░░░░░░░░░░░░░░░░░░░░░░░░░░░░░░░░░░░ 114/461\u001b[2A\n\u001b[1m\u001b[2mAnalyzing\u001b[0m \u001b[1m\u001b[2m./WHI/.env/lib/python3.8/site-packages/pip/_vendor/cachecontrol/serial\u001b[0m\n\u001b[2K\u001b[2A██████████░░░░░░░░░░░░░░░░░░░░░░░░░░░░░░░░░░░░░░░░░░░░░░░░░░░░░░ 118/461\u001b[2A\n\u001b[1m\u001b[2mAnalyzing\u001b[0m \u001b[1m\u001b[2m./WHI/.env/lib/python3.8/site-packages/pip/_vendor/cachecontrol/_cmd.p\u001b[0m\n\u001b[2K\u001b[2A███████████░░░░░░░░░░░░░░░░░░░░░░░░░░░░░░░░░░░░░░░░░░░░░░░░░░░░░ 128/461\u001b[2A\n\u001b[1m\u001b[2mAnalyzing\u001b[0m \u001b[1m\u001b[2m./WHI/.env/lib/python3.8/site-packages/pkg_resources/py2_warn.py      \u001b[0m\n\u001b[2K\u001b[2A████████████░░░░░░░░░░░░░░░░░░░░░░░░░░░░░░░░░░░░░░░░░░░░░░░░░░░░ 132/461\u001b[2A\n\u001b[1m\u001b[2mAnalyzing\u001b[0m \u001b[1m\u001b[2m./WHI/.env/lib/python3.8/site-packages/pip/_internal/vcs/git.py       \u001b[0m\n\u001b[2K\u001b[2A█████████████░░░░░░░░░░░░░░░░░░░░░░░░░░░░░░░░░░░░░░░░░░░░░░░░░░░ 139/461\u001b[2A\n\u001b[1m\u001b[2mAnalyzing\u001b[0m \u001b[1m\u001b[2m./WHI/.env/lib/python3.8/site-packages/pip/_vendor/chardet/jisfreq.py \u001b[0m\n\u001b[2K\u001b[2A██████████████░░░░░░░░░░░░░░░░░░░░░░░░░░░░░░░░░░░░░░░░░░░░░░░░░░ 143/461\u001b[2A\n\u001b[1m\u001b[2mAnalyzing\u001b[0m \u001b[1m\u001b[2m./WHI/.env/lib/python3.8/site-packages/pip/_internal/utils/compat.py  \u001b[0m\n\u001b[2K\u001b[2A██████████████░░░░░░░░░░░░░░░░░░░░░░░░░░░░░░░░░░░░░░░░░░░░░░░░░░ 146/461\u001b[2A\n\u001b[1m\u001b[2mAnalyzing\u001b[0m \u001b[1m\u001b[2m./WHI/.env/lib/python3.8/site-packages/pip/_internal/utils/compatibili\u001b[0m\n\u001b[2K\u001b[2A███████████████░░░░░░░░░░░░░░░░░░░░░░░░░░░░░░░░░░░░░░░░░░░░░░░░░ 151/461\u001b[2A\n\u001b[1m\u001b[2mAnalyzing\u001b[0m \u001b[1m\u001b[2m./WHI/.env/lib/python3.8/site-packages/pip/_vendor/colorama/__init__.p\u001b[0m\n\u001b[2K\u001b[2A████████████████░░░░░░░░░░░░░░░░░░░░░░░░░░░░░░░░░░░░░░░░░░░░░░░░ 156/461\u001b[2A\n\u001b[1m\u001b[2mAnalyzing\u001b[0m \u001b[1m\u001b[2m./WHI/.env/lib/python3.8/site-packages/setuptools/command/rotate.py   \u001b[0m\n\u001b[2K\u001b[2A████████████████░░░░░░░░░░░░░░░░░░░░░░░░░░░░░░░░░░░░░░░░░░░░░░░░ 158/461\u001b[2A\n\u001b[1m\u001b[2mAnalyzing\u001b[0m \u001b[1m\u001b[2m./WHI/.env/lib/python3.8/site-packages/pip/_internal/utils/distutils_a\u001b[0m\n\u001b[2K\u001b[2A█████████████████░░░░░░░░░░░░░░░░░░░░░░░░░░░░░░░░░░░░░░░░░░░░░░░ 161/461\u001b[2A\n\u001b[1m\u001b[2mAnalyzing\u001b[0m \u001b[1m\u001b[2m./WHI/.env/lib/python3.8/site-packages/pip/_internal/utils/encoding.py\u001b[0m\n\u001b[2K\u001b[2A██████████████████░░░░░░░░░░░░░░░░░░░░░░░░░░░░░░░░░░░░░░░░░░░░░░ 167/461\u001b[2A\n\u001b[1m\u001b[2mAnalyzing\u001b[0m \u001b[1m\u001b[2m./WHI/.env/lib/python3.8/site-packages/pip/_vendor/chardet/big5freq.py\u001b[0m\n\u001b[2K\u001b[2A███████████████████░░░░░░░░░░░░░░░░░░░░░░░░░░░░░░░░░░░░░░░░░░░░░ 177/461\u001b[2A\n\u001b[1m\u001b[2mAnalyzing\u001b[0m \u001b[1m\u001b[2m./WHI/.env/lib/python3.8/site-packages/pip/_internal/cli/main.py      \u001b[0m\n\u001b[2K\u001b[2A████████████████████░░░░░░░░░░░░░░░░░░░░░░░░░░░░░░░░░░░░░░░░░░░░ 183/461\u001b[2A\n\u001b[1m\u001b[2mAnalyzing\u001b[0m \u001b[1m\u001b[2m./WHI/.env/lib/python3.8/site-packages/pip/_internal/cli/main_parser.p\u001b[0m\n\u001b[2K\u001b[2A█████████████████████░░░░░░░░░░░░░░░░░░░░░░░░░░░░░░░░░░░░░░░░░░░ 187/461\u001b[2A\n\u001b[1m\u001b[2mAnalyzing\u001b[0m \u001b[1m\u001b[2m./WHI/.env/lib/python3.8/site-packages/pip/_internal/utils/filesystem.\u001b[0m\n\u001b[2K\u001b[2A█████████████████████░░░░░░░░░░░░░░░░░░░░░░░░░░░░░░░░░░░░░░░░░░░ 191/461\u001b[2A\n\u001b[1m\u001b[2mAnalyzing\u001b[0m \u001b[1m\u001b[2m./WHI/.env/lib/python3.8/site-packages/pip/_internal/utils/filetypes.p\u001b[0m\n\u001b[2K\u001b[2A██████████████████████░░░░░░░░░░░░░░░░░░░░░░░░░░░░░░░░░░░░░░░░░░ 193/461\u001b[2A\n\u001b[1m\u001b[2mAnalyzing\u001b[0m \u001b[1m\u001b[2m./WHI/.env/lib/python3.8/site-packages/pip/_vendor/pep517/_in_process.\u001b[0m\n\u001b[2K\u001b[2A██████████████████████░░░░░░░░░░░░░░░░░░░░░░░░░░░░░░░░░░░░░░░░░░ 197/461\u001b[2A\n\u001b[1m\u001b[2mAnalyzing\u001b[0m \u001b[1m\u001b[2m./WHI/.env/lib/python3.8/site-packages/pkg_resources/_vendor/packaging\u001b[0m\n\u001b[2K\u001b[2A████████████████████████░░░░░░░░░░░░░░░░░░░░░░░░░░░░░░░░░░░░░░░░ 206/461\u001b[2A\n\u001b[1m\u001b[2mAnalyzing\u001b[0m \u001b[1m\u001b[2m./WHI/.env/lib/python3.8/site-packages/pip/_vendor/urllib3/request.py \u001b[0m\n\u001b[2K\u001b[2A████████████████████████░░░░░░░░░░░░░░░░░░░░░░░░░░░░░░░░░░░░░░░░ 210/461\u001b[2A\n\u001b[1m\u001b[2mAnalyzing\u001b[0m \u001b[1m\u001b[2m./WHI/.env/lib/python3.8/site-packages/pip/_vendor/cachecontrol/adapte\u001b[0m\n\u001b[2K\u001b[2A█████████████████████████░░░░░░░░░░░░░░░░░░░░░░░░░░░░░░░░░░░░░░░ 213/461\u001b[2A\n\u001b[1m\u001b[2mAnalyzing\u001b[0m \u001b[1m\u001b[2m./WHI/.env/lib/python3.8/site-packages/pip/_vendor/html5lib/treebuilde\u001b[0m\n\u001b[2K\u001b[2A█████████████████████████░░░░░░░░░░░░░░░░░░░░░░░░░░░░░░░░░░░░░░░ 217/461\u001b[2A\n\u001b[1m\u001b[2mAnalyzing\u001b[0m \u001b[1m\u001b[2m./WHI/.env/lib/python3.8/site-packages/pip/_vendor/cachecontrol/caches\u001b[0m\n\u001b[2K\u001b[2A██████████████████████████░░░░░░░░░░░░░░░░░░░░░░░░░░░░░░░░░░░░░░ 221/461\u001b[2A\n\u001b[1m\u001b[2mAnalyzing\u001b[0m \u001b[1m\u001b[2m./WHI/.env/lib/python3.8/site-packages/pip/_vendor/cachecontrol/caches\u001b[0m\n\u001b[2K\u001b[2A██████████████████████████░░░░░░░░░░░░░░░░░░░░░░░░░░░░░░░░░░░░░░ 224/461\u001b[2A\n\u001b[1m\u001b[2mAnalyzing\u001b[0m \u001b[1m\u001b[2m./WHI/.env/lib/python3.8/site-packages/pip/_vendor/webencodings/labels\u001b[0m\n\u001b[2K\u001b[2A███████████████████████████░░░░░░░░░░░░░░░░░░░░░░░░░░░░░░░░░░░░░ 228/461\u001b[2A\n\u001b[1m\u001b[2mAnalyzing\u001b[0m \u001b[1m\u001b[2m./WHI/.env/lib/python3.8/site-packages/pip/_vendor/resolvelib/reporter\u001b[0m\n\u001b[2K\u001b[2A████████████████████████████░░░░░░░░░░░░░░░░░░░░░░░░░░░░░░░░░░░░ 234/461\u001b[2A\n\u001b[1m\u001b[2mAnalyzing\u001b[0m \u001b[1m\u001b[2m./WHI/.env/lib/python3.8/site-packages/pip/_vendor/distlib/database.py\u001b[0m\n\u001b[2K\u001b[2A████████████████████████████░░░░░░░░░░░░░░░░░░░░░░░░░░░░░░░░░░░░ 236/461\u001b[2A\n\u001b[1m\u001b[2mAnalyzing\u001b[0m \u001b[1m\u001b[2m./WHI/.env/lib/python3.8/site-packages/pip/_internal/commands/completi\u001b[0m\n\u001b[2K\u001b[2A█████████████████████████████░░░░░░░░░░░░░░░░░░░░░░░░░░░░░░░░░░░ 239/461\u001b[2A\n\u001b[1m\u001b[2mAnalyzing\u001b[0m \u001b[1m\u001b[2m./WHI/.env/lib/python3.8/site-packages/pip/_vendor/resolvelib/resolver\u001b[0m\n\u001b[2K\u001b[2A█████████████████████████████░░░░░░░░░░░░░░░░░░░░░░░░░░░░░░░░░░░ 242/461\u001b[2A\n\u001b[1m\u001b[2mAnalyzing\u001b[0m \u001b[1m\u001b[2m./WHI/.env/lib/python3.8/site-packages/setuptools/command/bdist_winins\u001b[0m\n\u001b[2K\u001b[2A██████████████████████████████░░░░░░░░░░░░░░░░░░░░░░░░░░░░░░░░░░ 246/461\u001b[2A\n\u001b[1m\u001b[2mAnalyzing\u001b[0m \u001b[1m\u001b[2m./WHI/.env/lib/python3.8/site-packages/setuptools/command/build_clib.p\u001b[0m\n\u001b[2K\u001b[2A███████████████████████████████░░░░░░░░░░░░░░░░░░░░░░░░░░░░░░░░░ 251/461\u001b[2A\n\u001b[1m\u001b[2mAnalyzing\u001b[0m \u001b[1m\u001b[2m./WHI/.env/lib/python3.8/site-packages/pip/__init__.py                \u001b[0m\n\u001b[2K\u001b[2A███████████████████████████████░░░░░░░░░░░░░░░░░░░░░░░░░░░░░░░░░ 253/461\u001b[2A\n\u001b[1m\u001b[2mAnalyzing\u001b[0m \u001b[1m\u001b[2m./WHI/.env/lib/python3.8/site-packages/setuptools/errors.py           \u001b[0m\n\u001b[2K\u001b[2A████████████████████████████████░░░░░░░░░░░░░░░░░░░░░░░░░░░░░░░░ 259/461\u001b[2A\n\u001b[1m\u001b[2mAnalyzing\u001b[0m \u001b[1m\u001b[2m./WHI/.env/lib/python3.8/site-packages/setuptools/command/build_ext.py\u001b[0m\n\u001b[2K\u001b[2A█████████████████████████████████░░░░░░░░░░░░░░░░░░░░░░░░░░░░░░░ 266/461\u001b[2A\n\u001b[1m\u001b[2mAnalyzing\u001b[0m \u001b[1m\u001b[2m./WHI/.env/lib/python3.8/site-packages/pip/_vendor/html5lib/treewalker\u001b[0m\n\u001b[2K\u001b[2A██████████████████████████████████░░░░░░░░░░░░░░░░░░░░░░░░░░░░░░ 269/461\u001b[2A\n\u001b[1m\u001b[2mAnalyzing\u001b[0m \u001b[1m\u001b[2m./WHI/.env/lib/python3.8/site-packages/pip/_vendor/pkg_resources/__ini\u001b[0m\n\u001b[2K\u001b[2A██████████████████████████████████░░░░░░░░░░░░░░░░░░░░░░░░░░░░░░ 274/461\u001b[2A\n\u001b[1m\u001b[2mAnalyzing\u001b[0m \u001b[1m\u001b[2m./WHI/.env/lib/python3.8/site-packages/setuptools/installer.py        \u001b[0m\n\u001b[2K\u001b[2A███████████████████████████████████░░░░░░░░░░░░░░░░░░░░░░░░░░░░░ 276/461\u001b[2A\n\u001b[1m\u001b[2mAnalyzing\u001b[0m \u001b[1m\u001b[2m./WHI/.env/lib/python3.8/site-packages/pip/_vendor/progress/counter.py\u001b[0m\n\u001b[2K\u001b[2A███████████████████████████████████░░░░░░░░░░░░░░░░░░░░░░░░░░░░░ 281/461\u001b[2A\n\u001b[1m\u001b[2mAnalyzing\u001b[0m \u001b[1m\u001b[2m./WHI/.env/lib/python3.8/site-packages/pkg_resources/_vendor/packaging\u001b[0m\n\u001b[2K\u001b[2A████████████████████████████████████░░░░░░░░░░░░░░░░░░░░░░░░░░░░ 284/461\u001b[2A\n\u001b[1m\u001b[2mAnalyzing\u001b[0m \u001b[1m\u001b[2m./WHI/.env/lib/python3.8/site-packages/pkg_resources/_vendor/packaging\u001b[0m\n\u001b[2K\u001b[2A█████████████████████████████████████░░░░░░░░░░░░░░░░░░░░░░░░░░░ 290/461\u001b[2A\n\u001b[1m\u001b[2mAnalyzing\u001b[0m \u001b[1m\u001b[2m./WHI/.env/lib/python3.8/site-packages/pip/_vendor/progress/__init__.p\u001b[0m\n\u001b[2K\u001b[2A█████████████████████████████████████░░░░░░░░░░░░░░░░░░░░░░░░░░░ 291/461\u001b[2A\n\u001b[1m\u001b[2mAnalyzing\u001b[0m \u001b[1m\u001b[2m./WHI/.env/lib/python3.8/site-packages/pip/_vendor/urllib3/util/retry.\u001b[0m\n\u001b[2K\u001b[2A█████████████████████████████████████░░░░░░░░░░░░░░░░░░░░░░░░░░░ 293/461\u001b[2A\n\u001b[1m\u001b[2mAnalyzing\u001b[0m \u001b[1m\u001b[2m./WHI/.env/lib/python3.8/site-packages/pkg_resources/_vendor/packaging\u001b[0m\n\u001b[2K\u001b[2A██████████████████████████████████████░░░░░░░░░░░░░░░░░░░░░░░░░░ 296/461\u001b[2A\n\u001b[1m\u001b[2mAnalyzing\u001b[0m \u001b[1m\u001b[2m./WHI/.env/lib/python3.8/site-packages/pip/_vendor/html5lib/_inputstre\u001b[0m\n\u001b[2K\u001b[2A██████████████████████████████████████░░░░░░░░░░░░░░░░░░░░░░░░░░ 298/461\u001b[2A\n\u001b[1m\u001b[2mAnalyzing\u001b[0m \u001b[1m\u001b[2m./WHI/.env/lib/python3.8/site-packages/pip/_vendor/distlib/_backport/s\u001b[0m\n\u001b[2K\u001b[2A██████████████████████████████████████░░░░░░░░░░░░░░░░░░░░░░░░░░ 299/461\u001b[2A\n\u001b[1m\u001b[2mAnalyzing\u001b[0m \u001b[1m\u001b[2m./WHI/.env/lib/python3.8/site-packages/pip/_vendor/urllib3/util/ssl_.p\u001b[0m\n\u001b[2K\u001b[2A██████████████████████████████████████░░░░░░░░░░░░░░░░░░░░░░░░░░ 299/461\u001b[2A\n\u001b[1m\u001b[2mAnalyzing\u001b[0m \u001b[1m\u001b[2m./WHI/.env/lib/python3.8/site-packages/pip/_vendor/urllib3/util/ssl_.p\u001b[0m\n\u001b[2K\u001b[2A██████████████████████████████████████░░░░░░░░░░░░░░░░░░░░░░░░░░ 300/461\u001b[2A\n\u001b[1m\u001b[2mAnalyzing\u001b[0m \u001b[1m\u001b[2m./WHI/.env/lib/python3.8/site-packages/pip/_vendor/toml/decoder.py    \u001b[0m\n\u001b[2K\u001b[2A███████████████████████████████████████░░░░░░░░░░░░░░░░░░░░░░░░░ 302/461\u001b[2A\n\u001b[1m\u001b[2mAnalyzing\u001b[0m \u001b[1m\u001b[2m./WHI/.env/lib/python3.8/site-packages/setuptools/namespaces.py       \u001b[0m\n\u001b[2K\u001b[2A███████████████████████████████████████░░░░░░░░░░░░░░░░░░░░░░░░░ 303/461\u001b[2A\n\u001b[1m\u001b[2mAnalyzing\u001b[0m \u001b[1m\u001b[2m./WHI/.env/lib/python3.8/site-packages/pip/_vendor/toml/encoder.py    \u001b[0m\n\u001b[2K\u001b[2A███████████████████████████████████████░░░░░░░░░░░░░░░░░░░░░░░░░ 303/461\u001b[2A\n\u001b[1m\u001b[2mAnalyzing\u001b[0m \u001b[1m\u001b[2m./WHI/.env/lib/python3.8/site-packages/pip/_vendor/toml/ordered.py    \u001b[0m\n\u001b[2K\u001b[2A███████████████████████████████████████░░░░░░░░░░░░░░░░░░░░░░░░░ 305/461\u001b[2A\n\u001b[1m\u001b[2mAnalyzing\u001b[0m \u001b[1m\u001b[2m./WHI/.env/lib/python3.8/site-packages/pip/_vendor/toml/tz.py         \u001b[0m\n\u001b[2K\u001b[2A███████████████████████████████████████░░░░░░░░░░░░░░░░░░░░░░░░░ 307/461\u001b[2A\n\u001b[1m\u001b[2mAnalyzing\u001b[0m \u001b[1m\u001b[2m./WHI/.env/lib/python3.8/site-packages/pip/_vendor/distlib/metadata.py\u001b[0m\n\u001b[2K\u001b[2A████████████████████████████████████████░░░░░░░░░░░░░░░░░░░░░░░░ 309/461\u001b[2A\n\u001b[1m\u001b[2mAnalyzing\u001b[0m \u001b[1m\u001b[2m./WHI/.env/lib/python3.8/site-packages/setuptools/command/easy_install\u001b[0m\n\u001b[2K\u001b[2A████████████████████████████████████████░░░░░░░░░░░░░░░░░░░░░░░░ 309/461\u001b[2A\n\u001b[1m\u001b[2mAnalyzing\u001b[0m \u001b[1m\u001b[2m./WHI/.env/lib/python3.8/site-packages/setuptools/command/easy_install\u001b[0m\n\u001b[2K\u001b[2A████████████████████████████████████████░░░░░░░░░░░░░░░░░░░░░░░░ 310/461\u001b[2A\n\u001b[1m\u001b[2mAnalyzing\u001b[0m \u001b[1m\u001b[2m./WHI/.env/lib/python3.8/site-packages/pip/_vendor/distlib/resources.p\u001b[0m\n\u001b[2K\u001b[2A████████████████████████████████████████░░░░░░░░░░░░░░░░░░░░░░░░ 311/461\u001b[2A\n\u001b[1m\u001b[2mAnalyzing\u001b[0m \u001b[1m\u001b[2m./WHI/.env/lib/python3.8/site-packages/setuptools/package_index.py    \u001b[0m\n\u001b[2K\u001b[2A████████████████████████████████████████░░░░░░░░░░░░░░░░░░░░░░░░ 312/461\u001b[2A\n\u001b[1m\u001b[2mAnalyzing\u001b[0m \u001b[1m\u001b[2m./WHI/.env/lib/python3.8/site-packages/setuptools/py27compat.py       \u001b[0m\n\u001b[2K\u001b[2A████████████████████████████████████████░░░░░░░░░░░░░░░░░░░░░░░░ 313/461\u001b[2A\n\u001b[1m\u001b[2mAnalyzing\u001b[0m \u001b[1m\u001b[2m./WHI/.env/lib/python3.8/site-packages/setuptools/py33compat.py       \u001b[0m\n\u001b[2K\u001b[2A█████████████████████████████████████████░░░░░░░░░░░░░░░░░░░░░░░ 316/461\u001b[2A\n\u001b[1m\u001b[2mAnalyzing\u001b[0m \u001b[1m\u001b[2m./WHI/.env/lib/python3.8/site-packages/setuptools/py34compat.py       \u001b[0m\n\u001b[2K\u001b[2A█████████████████████████████████████████░░░░░░░░░░░░░░░░░░░░░░░ 319/461\u001b[2A\n\u001b[1m\u001b[2mAnalyzing\u001b[0m \u001b[1m\u001b[2m./WHI/.env/lib/python3.8/site-packages/pip/_vendor/distlib/_backport/t\u001b[0m\n\u001b[2K\u001b[2A█████████████████████████████████████████░░░░░░░░░░░░░░░░░░░░░░░ 319/461\u001b[2A\n\u001b[1m\u001b[2mAnalyzing\u001b[0m \u001b[1m\u001b[2m./WHI/.env/lib/python3.8/site-packages/pip/_vendor/toml.py            \u001b[0m\n\u001b[2K\u001b[2A██████████████████████████████████████████░░░░░░░░░░░░░░░░░░░░░░ 321/461\u001b[2A\n\u001b[1m\u001b[2mAnalyzing\u001b[0m \u001b[1m\u001b[2m./WHI/.env/lib/python3.8/site-packages/pip/_vendor/html5lib/_tokenizer\u001b[0m\n\u001b[2K\u001b[2A██████████████████████████████████████████░░░░░░░░░░░░░░░░░░░░░░ 324/461\u001b[2A\n\u001b[1m\u001b[2mAnalyzing\u001b[0m \u001b[1m\u001b[2m./WHI/.env/lib/python3.8/site-packages/pkg_resources/__init__.py      \u001b[0m\n\u001b[2K\u001b[2A███████████████████████████████████████████░░░░░░░░░░░░░░░░░░░░░ 327/461\u001b[2A\n\u001b[1m\u001b[2mAnalyzing\u001b[0m \u001b[1m\u001b[2m./WHI/.env/lib/python3.8/site-packages/setuptools/site-patch.py       \u001b[0m\n\u001b[2K\u001b[2A███████████████████████████████████████████░░░░░░░░░░░░░░░░░░░░░ 330/461\u001b[2A\n\u001b[1m\u001b[2mAnalyzing\u001b[0m \u001b[1m\u001b[2m./WHI/.env/lib/python3.8/site-packages/pip/_vendor/distlib/version.py \u001b[0m\n\u001b[2K\u001b[2A███████████████████████████████████████████░░░░░░░░░░░░░░░░░░░░░ 332/461\u001b[2A\n\u001b[1m\u001b[2mAnalyzing\u001b[0m \u001b[1m\u001b[2m./WHI/.env/lib/python3.8/site-packages/pip/_vendor/urllib3/contrib/ntl\u001b[0m\n\u001b[2K\u001b[2A████████████████████████████████████████████░░░░░░░░░░░░░░░░░░░░ 338/461\u001b[2A\n\u001b[1m\u001b[2mAnalyzing\u001b[0m \u001b[1m\u001b[2m./WHI/.env/lib/python3.8/site-packages/pip/_vendor/distro.py          \u001b[0m\n\u001b[2K\u001b[2A█████████████████████████████████████████████░░░░░░░░░░░░░░░░░░░ 340/461\u001b[2A\n\u001b[1m\u001b[2mAnalyzing\u001b[0m \u001b[1m\u001b[2m./WHI/.env/lib/python3.8/site-packages/pip/_vendor/html5lib/_utils.py \u001b[0m\n\u001b[2K\u001b[2A█████████████████████████████████████████████░░░░░░░░░░░░░░░░░░░ 342/461\u001b[2A\n\u001b[1m\u001b[2mAnalyzing\u001b[0m \u001b[1m\u001b[2m./WHI/.env/lib/python3.8/site-packages/pip/_vendor/urllib3/contrib/_se\u001b[0m\n\u001b[2K\u001b[2A█████████████████████████████████████████████░░░░░░░░░░░░░░░░░░░ 345/461\u001b[2A\n\u001b[1m\u001b[2mAnalyzing\u001b[0m \u001b[1m\u001b[2m./WHI/.env/lib/python3.8/site-packages/pip/_vendor/urllib3/contrib/__i\u001b[0m\n\u001b[2K\u001b[2A██████████████████████████████████████████████░░░░░░░░░░░░░░░░░░ 347/461\u001b[2A\n\u001b[1m\u001b[2mAnalyzing\u001b[0m \u001b[1m\u001b[2m./WHI/.env/lib/python3.8/site-packages/pip/_vendor/urllib3/exceptions.\u001b[0m\n\u001b[2K\u001b[2A██████████████████████████████████████████████░░░░░░░░░░░░░░░░░░ 351/461\u001b[2A\n\u001b[1m\u001b[2mAnalyzing\u001b[0m \u001b[1m\u001b[2m./WHI/.env/lib/python3.8/site-packages/pip/_vendor/distlib/util.py    \u001b[0m\n\u001b[2K\u001b[2A███████████████████████████████████████████████░░░░░░░░░░░░░░░░░ 354/461\u001b[2A\n\u001b[1m\u001b[2mAnalyzing\u001b[0m \u001b[1m\u001b[2m./WHI/.env/lib/python3.8/site-packages/setuptools/command/alias.py    \u001b[0m\n\u001b[2K\u001b[2A███████████████████████████████████████████████░░░░░░░░░░░░░░░░░ 358/461\u001b[2A\n\u001b[1m\u001b[2mAnalyzing\u001b[0m \u001b[1m\u001b[2m./WHI/.env/lib/python3.8/site-packages/pip/_vendor/distlib/wheel.py   \u001b[0m\n\u001b[2K\u001b[2A████████████████████████████████████████████████░░░░░░░░░░░░░░░░ 360/461\u001b[2A\n\u001b[1m\u001b[2mAnalyzing\u001b[0m \u001b[1m\u001b[2m./WHI/.env/lib/python3.8/site-packages/pip/_vendor/urllib3/packages/ba\u001b[0m\n\u001b[2K\u001b[2A████████████████████████████████████████████████░░░░░░░░░░░░░░░░ 363/461\u001b[2A\n\u001b[1m\u001b[2mAnalyzing\u001b[0m \u001b[1m\u001b[2m./WHI/.env/lib/python3.8/site-packages/pip/_vendor/chardet/langcyrilli\u001b[0m\n\u001b[2K\u001b[2A████████████████████████████████████████████████░░░░░░░░░░░░░░░░ 364/461\u001b[2A\n\u001b[1m\u001b[2mAnalyzing\u001b[0m \u001b[1m\u001b[2m./WHI/.env/lib/python3.8/site-packages/pip/_vendor/html5lib/filters/li\u001b[0m\n\u001b[2K\u001b[2A█████████████████████████████████████████████████░░░░░░░░░░░░░░░ 367/461\u001b[2A\n\u001b[1m\u001b[2mAnalyzing\u001b[0m \u001b[1m\u001b[2m./WHI/.env/lib/python3.8/site-packages/pip/_vendor/html5lib/filters/op\u001b[0m\n\u001b[2K\u001b[2A█████████████████████████████████████████████████░░░░░░░░░░░░░░░ 367/461\u001b[2A\n\u001b[1m\u001b[2mAnalyzing\u001b[0m \u001b[1m\u001b[2m./WHI/.env/lib/python3.8/site-packages/pip/_vendor/urllib3/contrib/_ap\u001b[0m\n\u001b[2K\u001b[2A█████████████████████████████████████████████████░░░░░░░░░░░░░░░ 371/461\u001b[2A\n\u001b[1m\u001b[2mAnalyzing\u001b[0m \u001b[1m\u001b[2m./WHI/.env/lib/python3.8/site-packages/setuptools/command/bdist_rpm.py\u001b[0m\n\u001b[2K\u001b[2A██████████████████████████████████████████████████░░░░░░░░░░░░░░ 373/461\u001b[2A\n\u001b[1m\u001b[2mAnalyzing\u001b[0m \u001b[1m\u001b[2m./WHI/.env/lib/python3.8/site-packages/pip/_vendor/chardet/mbcharsetpr\u001b[0m\n\u001b[2K\u001b[2A██████████████████████████████████████████████████░░░░░░░░░░░░░░ 376/461\u001b[2A\n\u001b[1m\u001b[2mAnalyzing\u001b[0m \u001b[1m\u001b[2m./WHI/.env/lib/python3.8/site-packages/pip/_vendor/requests/adapters.p\u001b[0m\n\u001b[2K\u001b[2A███████████████████████████████████████████████████░░░░░░░░░░░░░ 379/461\u001b[2A\n\u001b[1m\u001b[2mAnalyzing\u001b[0m \u001b[1m\u001b[2m./WHI/.env/lib/python3.8/site-packages/pip/_vendor/requests/api.py    \u001b[0m\n\u001b[2K\u001b[2A███████████████████████████████████████████████████░░░░░░░░░░░░░ 381/461\u001b[2A\n\u001b[1m\u001b[2mAnalyzing\u001b[0m \u001b[1m\u001b[2m./WHI/.env/lib/python3.8/site-packages/setuptools/_vendor/packaging/ta\u001b[0m\n\u001b[2K\u001b[2A████████████████████████████████████████████████████░░░░░░░░░░░░ 385/461\u001b[2A\n\u001b[1m\u001b[2mAnalyzing\u001b[0m \u001b[1m\u001b[2m./WHI/.env/lib/python3.8/site-packages/pip/_vendor/urllib3/contrib/sec\u001b[0m\n\u001b[2K\u001b[2A████████████████████████████████████████████████████░░░░░░░░░░░░ 390/461\u001b[2A\n\u001b[1m\u001b[2mAnalyzing\u001b[0m \u001b[1m\u001b[2m./WHI/.env/lib/python3.8/site-packages/pip/_vendor/requests/help.py   \u001b[0m\n\u001b[2K\u001b[2A█████████████████████████████████████████████████████░░░░░░░░░░░ 394/461\u001b[2A\n\u001b[1m\u001b[2mAnalyzing\u001b[0m \u001b[1m\u001b[2m./WHI/.env/lib/python3.8/site-packages/pip/_vendor/html5lib/filters/ba\u001b[0m\n\u001b[2K\u001b[2A██████████████████████████████████████████████████████░░░░░░░░░░ 397/461\u001b[2A\n\u001b[1m\u001b[2mAnalyzing\u001b[0m \u001b[1m\u001b[2m./WHI/.env/lib/python3.8/site-packages/setuptools/_vendor/packaging/ve\u001b[0m\n\u001b[2K\u001b[2A██████████████████████████████████████████████████████░░░░░░░░░░ 399/461\u001b[2A\n\u001b[1m\u001b[2mAnalyzing\u001b[0m \u001b[1m\u001b[2m./WHI/.env/lib/python3.8/site-packages/setuptools/_vendor/packaging/_s\u001b[0m\n\u001b[2K\u001b[2A███████████████████████████████████████████████████████░░░░░░░░░ 404/461\u001b[2A\n\u001b[1m\u001b[2mAnalyzing\u001b[0m \u001b[1m\u001b[2m./WHI/.env/lib/python3.8/site-packages/setuptools/_vendor/packaging/__\u001b[0m\n\u001b[2K\u001b[2A███████████████████████████████████████████████████████░░░░░░░░░ 405/461\u001b[2A\n\u001b[1m\u001b[2mAnalyzing\u001b[0m \u001b[1m\u001b[2m./WHI/.env/lib/python3.8/site-packages/pip/_vendor/html5lib/constants.\u001b[0m\n\u001b[2K\u001b[2A███████████████████████████████████████████████████████░░░░░░░░░ 407/461\u001b[2A\n\u001b[1m\u001b[2mAnalyzing\u001b[0m \u001b[1m\u001b[2m./WHI/.env/lib/python3.8/site-packages/pip/_vendor/html5lib/filters/al\u001b[0m\n\u001b[2K\u001b[2A████████████████████████████████████████████████████████░░░░░░░░ 411/461\u001b[2A\n\u001b[1m\u001b[2mAnalyzing\u001b[0m \u001b[1m\u001b[2m./WHI/.env/lib/python3.8/site-packages/pip/_vendor/chardet/sjisprober.\u001b[0m\n\u001b[2K\u001b[2A████████████████████████████████████████████████████████░░░░░░░░ 413/461\u001b[2A\n\u001b[1m\u001b[2mAnalyzing\u001b[0m \u001b[1m\u001b[2m./WHI/.env/lib/python3.8/site-packages/pip/_vendor/colorama/win32.py  \u001b[0m\n\u001b[2K\u001b[2A████████████████████████████████████████████████████████░░░░░░░░ 416/461\u001b[2A\n\u001b[1m\u001b[2mAnalyzing\u001b[0m \u001b[1m\u001b[2m./WHI/.env/lib/python3.8/site-packages/pip/_vendor/chardet/universalde\u001b[0m\n\u001b[2K\u001b[2A█████████████████████████████████████████████████████████░░░░░░░ 417/461\u001b[2A\n\u001b[1m\u001b[2mAnalyzing\u001b[0m \u001b[1m\u001b[2m./WHI/.env/lib/python3.8/site-packages/pip/_vendor/colorama/winterm.py\u001b[0m\n\u001b[2K\u001b[2A█████████████████████████████████████████████████████████░░░░░░░ 419/461\u001b[2A\n\u001b[1m\u001b[2mAnalyzing\u001b[0m \u001b[1m\u001b[2m./WHI/.env/lib/python3.8/site-packages/pip/_vendor/chardet/langgreekmo\u001b[0m\n\u001b[2K\u001b[2A█████████████████████████████████████████████████████████░░░░░░░ 421/461\u001b[2A\n\u001b[1m\u001b[2mAnalyzing\u001b[0m \u001b[1m\u001b[2m./WHI/.env/lib/python3.8/site-packages/pip/_vendor/pep517/build.py    \u001b[0m\n\u001b[2K\u001b[2A██████████████████████████████████████████████████████████░░░░░░ 424/461\u001b[2A\n\u001b[1m\u001b[2mAnalyzing\u001b[0m \u001b[1m\u001b[2m./WHI/.env/lib/python3.8/site-packages/pip/_vendor/packaging/utils.py \u001b[0m\n\u001b[2K\u001b[2A██████████████████████████████████████████████████████████░░░░░░ 427/461\u001b[2A\n\u001b[1m\u001b[2mAnalyzing\u001b[0m \u001b[1m\u001b[2m./WHI/.env/lib/python3.8/site-packages/pip/_vendor/pep517/check.py    \u001b[0m\n\u001b[2K\u001b[2A███████████████████████████████████████████████████████████░░░░░ 430/461\u001b[2A\n\u001b[1m\u001b[2mAnalyzing\u001b[0m \u001b[1m\u001b[2m./WHI/.env/lib/python3.8/site-packages/pip/_vendor/pep517/colorlog.py \u001b[0m\n\u001b[2K\u001b[2A███████████████████████████████████████████████████████████░░░░░ 434/461\u001b[2A\n\u001b[1m\u001b[2mAnalyzing\u001b[0m \u001b[1m\u001b[2m./WHI/.env/lib/python3.8/site-packages/pip/_vendor/pep517/compat.py   \u001b[0m\n\u001b[2K\u001b[2A./WHI/notebooks/KeyyLLM_2.py: ERROR (code: 300) - Error parsing source code at 217:1 in ./WHI/notebooks/KeyyLLM_2.py. This may cause otherwise applicable queries to not match.\n\n\u001b[1m\u001b[2mAnalyzing\u001b[0m \u001b[1m\u001b[2m./WHI/notebooks/KeyyLLM_2.py                                          \u001b[0m\n\u001b[2K\u001b[2A████████████████████████████████████████████████████████████░░░░ 440/461\u001b[2A\n\u001b[1m\u001b[2mAnalyzing\u001b[0m \u001b[1m\u001b[2m./WHI/.env/lib/python3.8/site-packages/pip/_vendor/msgpack/_version.py\u001b[0m\n\u001b[2K\u001b[2A█████████████████████████████████████████████████████████████░░░ 444/461\u001b[2A\n\u001b[1m\u001b[2mAnalyzing\u001b[0m \u001b[1m\u001b[2m./WHI/.env/lib/python3.8/site-packages/pip/_vendor/msgpack/__init__.py\u001b[0m\n\u001b[2K\u001b[2A██████████████████████████████████████████████████████████████░░ 450/461\u001b[2A\n\u001b[1m\u001b[2mAnalyzing\u001b[0m \u001b[1m\u001b[2m./WHI/.env/lib/python3.8/site-packages/pip/_vendor/packaging/requireme\u001b[0m\n\u001b[2K\u001b[2A██████████████████████████████████████████████████████████████░░ 450/461\u001b[2A\n\u001b[1m\u001b[2mAnalyzing\u001b[0m \u001b[1m\u001b[2m./WHI/.env/lib/python3.8/site-packages/pip/_vendor/packaging/markers.p\u001b[0m\n\u001b[2K\u001b[2A██████████████████████████████████████████████████████████████░░ 453/461\u001b[2A\n\u001b[1m\u001b[2mAnalyzing\u001b[0m \u001b[1m\u001b[2m./WHI/.env/lib/python3.8/site-packages/pip/_vendor/chardet/langthaimod\u001b[0m\n\u001b[2K\u001b[2A██████████████████████████████████████████████████████████████░░ 453/461\u001b[2A\n\u001b[1m\u001b[2mAnalyzing\u001b[0m \u001b[1m\u001b[2m./WHI/.env/lib/python3.8/site-packages/pip/_vendor/chardet/langthaimod\u001b[0m\n\u001b[2K\u001b[2A██████████████████████████████████████████████████████████████░░ 454/461\u001b[2A\n\u001b[1m\u001b[2mAnalyzing\u001b[0m \u001b[1m\u001b[2m./WHI/.env/lib/python3.8/site-packages/pip/_vendor/chardet/langturkish\u001b[0m\n\u001b[2K\u001b[2A██████████████████████████████████████████████████████████████░░ 454/461\u001b[2A\n\u001b[1m\u001b[2mAnalyzing\u001b[0m \u001b[1m\u001b[2m./WHI/.env/lib/python3.8/site-packages/pip/_vendor/chardet/langturkish\u001b[0m\n\u001b[2K\u001b[2A███████████████████████████████████████████████████████████████░ 455/461\u001b[2A\n\u001b[1m\u001b[2mAnalyzing\u001b[0m \u001b[1m\u001b[2m./WHI/.env/lib/python3.8/site-packages/pip/_vendor/msgpack/fallback.py\u001b[0m\n\u001b[2K\u001b[2A███████████████████████████████████████████████████████████████░ 455/461\u001b[2A\n\u001b[1m\u001b[2mAnalyzing\u001b[0m \u001b[1m\u001b[2m./WHI/.env/lib/python3.8/site-packages/pip/_vendor/msgpack/fallback.py\u001b[0m\n\u001b[2K\u001b[2A███████████████████████████████████████████████████████████████░ 456/461\u001b[2A\n\u001b[1m\u001b[2mAnalyzing\u001b[0m \u001b[1m\u001b[2m./WHI/.env/lib/python3.8/site-packages/pip/_vendor/chardet/langhebrewm\u001b[0m\n\u001b[2K\u001b[2A███████████████████████████████████████████████████████████████░ 456/461\u001b[2A\n\u001b[1m\u001b[2mAnalyzing\u001b[0m \u001b[1m\u001b[2m./WHI/.env/lib/python3.8/site-packages/pip/_vendor/chardet/langhebrewm\u001b[0m\n\u001b[2K\u001b[2A███████████████████████████████████████████████████████████████░ 457/461\u001b[2A\n\u001b[1m\u001b[2mAnalyzing\u001b[0m \u001b[1m\u001b[2m./WHI/.env/lib/python3.8/site-packages/pkg_resources/_vendor/pyparsing\u001b[0m\n\u001b[2K\u001b[2A███████████████████████████████████████████████████████████████░ 457/461\u001b[2A\n\u001b[1m\u001b[2mAnalyzing\u001b[0m \u001b[1m\u001b[2m./WHI/.env/lib/python3.8/site-packages/pkg_resources/_vendor/pyparsing\u001b[0m\n\u001b[2K\u001b[2A███████████████████████████████████████████████████████████████░ 458/461\u001b[2A\n\u001b[1m\u001b[2mAnalyzing\u001b[0m \u001b[1m\u001b[2m./WHI/.env/lib/python3.8/site-packages/setuptools/_vendor/pyparsing.py\u001b[0m\n\u001b[2K\u001b[2A███████████████████████████████████████████████████████████████░ 458/461\u001b[2A\n\u001b[1m\u001b[2mAnalyzing\u001b[0m \u001b[1m\u001b[2m./WHI/.env/lib/python3.8/site-packages/setuptools/_vendor/pyparsing.py\u001b[0m\n\u001b[2K\u001b[2A███████████████████████████████████████████████████████████████░ 459/461\u001b[2A\n\u001b[1m\u001b[2mAnalyzing\u001b[0m \u001b[1m\u001b[2m./WHI/.env/lib/python3.8/site-packages/pip/_vendor/idna/uts46data.py  \u001b[0m\n\u001b[2K\u001b[2A███████████████████████████████████████████████████████████████░ 459/461\u001b[2A\n\u001b[1m\u001b[2mAnalyzing\u001b[0m \u001b[1m\u001b[2m./WHI/.env/lib/python3.8/site-packages/pip/_vendor/idna/uts46data.py  \u001b[0m\n\u001b[2K\u001b[2A███████████████████████████████████████████████████████████████░ 460/461\u001b[2A\n\u001b[1m\u001b[2mAnalyzing\u001b[0m \u001b[1m\u001b[2m./WHI/.env/lib/python3.8/site-packages/pip/_vendor/idna/__init__.py   \u001b[0m\n\u001b[2K\u001b[2A███████████████████████████████████████████████████████████████░ 460/461\u001b[2A\n\u001b[1m\u001b[2mAnalyzing\u001b[0m \u001b[1m\u001b[2m./WHI/.env/lib/python3.8/site-packages/pip/_vendor/idna/__init__.py   \u001b[0m\n\u001b[2K\u001b[2A████████████████████████████████████████████████████████████████ 461/461\u001b[2A\n\u001b[1m\u001b[2mAnalyzing\u001b[0m \u001b[1m\u001b[2m./WHI/.env/lib/python3.8/site-packages/pip/_vendor/ipaddress.py       \u001b[0m\n\u001b[2K\u001b[2AProcessed 461 files and found 0 matches█████████████████████████ 461/461\u001b[2A\n"
        }
      ],
      "execution_count": 28,
      "metadata": {
        "jupyter": {
          "source_hidden": false,
          "outputs_hidden": true
        },
        "nteract": {
          "transient": {
            "deleting": false
          }
        },
        "gather": {
          "logged": 1712430563467
        }
      }
    },
    {
      "cell_type": "code",
      "source": [
        "# Perform the analogy calculation\n",
        "analogy_embedding = [\n",
        "    embedding_1[i] + embedding_2[i] - embedding_3[i]\n",
        "    for i in range(len(embedding_1))\n",
        "]"
      ],
      "outputs": [
        {
          "output_type": "error",
          "ename": "NameError",
          "evalue": "name 'embedding_1' is not defined",
          "traceback": [
            "\u001b[0;31m---------------------------------------------------------------------------\u001b[0m",
            "\u001b[0;31mNameError\u001b[0m                                 Traceback (most recent call last)",
            "Cell \u001b[0;32mIn[5], line 4\u001b[0m\n\u001b[1;32m      1\u001b[0m \u001b[38;5;66;03m# Perform the analogy calculation\u001b[39;00m\n\u001b[1;32m      2\u001b[0m analogy_embedding \u001b[38;5;241m=\u001b[39m [\n\u001b[1;32m      3\u001b[0m     embedding_1[i] \u001b[38;5;241m+\u001b[39m embedding_2[i] \u001b[38;5;241m-\u001b[39m embedding_3[i]\n\u001b[0;32m----> 4\u001b[0m     \u001b[38;5;28;01mfor\u001b[39;00m i \u001b[38;5;129;01min\u001b[39;00m \u001b[38;5;28mrange\u001b[39m(\u001b[38;5;28mlen\u001b[39m(\u001b[43membedding_1\u001b[49m))\n\u001b[1;32m      5\u001b[0m ]\n",
            "\u001b[0;31mNameError\u001b[0m: name 'embedding_1' is not defined"
          ]
        }
      ],
      "execution_count": 5,
      "metadata": {
        "jupyter": {
          "source_hidden": false,
          "outputs_hidden": true
        },
        "nteract": {
          "transient": {
            "deleting": false
          }
        },
        "gather": {
          "logged": 1712432559733
        }
      }
    },
    {
      "cell_type": "code",
      "source": [
        "# Function to get the embedding of a word\n",
        "def get_embedding(word):\n",
        "    response = openai.Embedding.create(\n",
        "        input=[word],\n",
        "        model=\"text-embedding-ada-002\"\n",
        "    )\n",
        "    return response['data'][0]['embedding']\n",
        "\n",
        "# Get the embeddings for the words in the analogy\n",
        "sushi_embedding = get_embedding(\"Sushi\")\n",
        "germany_embedding = get_embedding(\"Germany\")\n",
        "japan_embedding = get_embedding(\"Japan\")\n",
        "\n",
        "# Perform the analogy calculation\n",
        "analogy_embedding = [\n",
        "    sushi_embedding[i] + germany_embedding[i] - japan_embedding[i]\n",
        "    for i in range(len(sushi_embedding))\n",
        "]\n",
        "\n",
        "# Find the most similar word to the analogy embedding\n",
        "response = openai.Completion.create(\n",
        "    engine=\"text-davinci-002\",\n",
        "    prompt=f\"Find the most similar word to the following embedding:\\n{analogy_embedding}\\n\",\n",
        "    max_tokens=1,\n",
        "    n=1,\n",
        "    stop=None,\n",
        "    temperature=0.5,\n",
        ")\n",
        "\n",
        "similar_word = response.choices[0].text.strip()\n",
        "\n",
        "print(f\"Sushi + Germany - Japan = {similar_word}\")"
      ],
      "outputs": [
        {
          "output_type": "error",
          "ename": "APIRemovedInV1",
          "evalue": "\n\nYou tried to access openai.Embedding, but this is no longer supported in openai>=1.0.0 - see the README at https://github.com/openai/openai-python for the API.\n\nYou can run `openai migrate` to automatically upgrade your codebase to use the 1.0.0 interface. \n\nAlternatively, you can pin your installation to the old version, e.g. `pip install openai==0.28`\n\nA detailed migration guide is available here: https://github.com/openai/openai-python/discussions/742\n",
          "traceback": [
            "\u001b[0;31m---------------------------------------------------------------------------\u001b[0m",
            "\u001b[0;31mAPIRemovedInV1\u001b[0m                            Traceback (most recent call last)",
            "Cell \u001b[0;32mIn[13], line 10\u001b[0m\n\u001b[1;32m      7\u001b[0m     \u001b[38;5;28;01mreturn\u001b[39;00m response[\u001b[38;5;124m'\u001b[39m\u001b[38;5;124mdata\u001b[39m\u001b[38;5;124m'\u001b[39m][\u001b[38;5;241m0\u001b[39m][\u001b[38;5;124m'\u001b[39m\u001b[38;5;124membedding\u001b[39m\u001b[38;5;124m'\u001b[39m]\n\u001b[1;32m      9\u001b[0m \u001b[38;5;66;03m# Get the embeddings for the words in the analogy\u001b[39;00m\n\u001b[0;32m---> 10\u001b[0m sushi_embedding \u001b[38;5;241m=\u001b[39m \u001b[43mget_embedding\u001b[49m\u001b[43m(\u001b[49m\u001b[38;5;124;43m\"\u001b[39;49m\u001b[38;5;124;43mSushi\u001b[39;49m\u001b[38;5;124;43m\"\u001b[39;49m\u001b[43m)\u001b[49m\n\u001b[1;32m     11\u001b[0m germany_embedding \u001b[38;5;241m=\u001b[39m get_embedding(\u001b[38;5;124m\"\u001b[39m\u001b[38;5;124mGermany\u001b[39m\u001b[38;5;124m\"\u001b[39m)\n\u001b[1;32m     12\u001b[0m japan_embedding \u001b[38;5;241m=\u001b[39m get_embedding(\u001b[38;5;124m\"\u001b[39m\u001b[38;5;124mJapan\u001b[39m\u001b[38;5;124m\"\u001b[39m)\n",
            "Cell \u001b[0;32mIn[13], line 3\u001b[0m, in \u001b[0;36mget_embedding\u001b[0;34m(word)\u001b[0m\n\u001b[1;32m      2\u001b[0m \u001b[38;5;28;01mdef\u001b[39;00m \u001b[38;5;21mget_embedding\u001b[39m(word):\n\u001b[0;32m----> 3\u001b[0m     response \u001b[38;5;241m=\u001b[39m \u001b[43mopenai\u001b[49m\u001b[38;5;241;43m.\u001b[39;49m\u001b[43mEmbedding\u001b[49m\u001b[38;5;241;43m.\u001b[39;49m\u001b[43mcreate\u001b[49m\u001b[43m(\u001b[49m\n\u001b[1;32m      4\u001b[0m \u001b[43m        \u001b[49m\u001b[38;5;28;43minput\u001b[39;49m\u001b[38;5;241;43m=\u001b[39;49m\u001b[43m[\u001b[49m\u001b[43mword\u001b[49m\u001b[43m]\u001b[49m\u001b[43m,\u001b[49m\n\u001b[1;32m      5\u001b[0m \u001b[43m        \u001b[49m\u001b[43mmodel\u001b[49m\u001b[38;5;241;43m=\u001b[39;49m\u001b[38;5;124;43m\"\u001b[39;49m\u001b[38;5;124;43mtext-embedding-ada-002\u001b[39;49m\u001b[38;5;124;43m\"\u001b[39;49m\n\u001b[1;32m      6\u001b[0m \u001b[43m    \u001b[49m\u001b[43m)\u001b[49m\n\u001b[1;32m      7\u001b[0m     \u001b[38;5;28;01mreturn\u001b[39;00m response[\u001b[38;5;124m'\u001b[39m\u001b[38;5;124mdata\u001b[39m\u001b[38;5;124m'\u001b[39m][\u001b[38;5;241m0\u001b[39m][\u001b[38;5;124m'\u001b[39m\u001b[38;5;124membedding\u001b[39m\u001b[38;5;124m'\u001b[39m]\n",
            "File \u001b[0;32m/anaconda/envs/azureml_py310_sdkv2/lib/python3.10/site-packages/openai/lib/_old_api.py:39\u001b[0m, in \u001b[0;36mAPIRemovedInV1Proxy.__call__\u001b[0;34m(self, *_args, **_kwargs)\u001b[0m\n\u001b[1;32m     38\u001b[0m \u001b[38;5;28;01mdef\u001b[39;00m \u001b[38;5;21m__call__\u001b[39m(\u001b[38;5;28mself\u001b[39m, \u001b[38;5;241m*\u001b[39m_args: Any, \u001b[38;5;241m*\u001b[39m\u001b[38;5;241m*\u001b[39m_kwargs: Any) \u001b[38;5;241m-\u001b[39m\u001b[38;5;241m>\u001b[39m Any:\n\u001b[0;32m---> 39\u001b[0m     \u001b[38;5;28;01mraise\u001b[39;00m APIRemovedInV1(symbol\u001b[38;5;241m=\u001b[39m\u001b[38;5;28mself\u001b[39m\u001b[38;5;241m.\u001b[39m_symbol)\n",
            "\u001b[0;31mAPIRemovedInV1\u001b[0m: \n\nYou tried to access openai.Embedding, but this is no longer supported in openai>=1.0.0 - see the README at https://github.com/openai/openai-python for the API.\n\nYou can run `openai migrate` to automatically upgrade your codebase to use the 1.0.0 interface. \n\nAlternatively, you can pin your installation to the old version, e.g. `pip install openai==0.28`\n\nA detailed migration guide is available here: https://github.com/openai/openai-python/discussions/742\n"
          ]
        }
      ],
      "execution_count": 13,
      "metadata": {
        "jupyter": {
          "source_hidden": false,
          "outputs_hidden": false
        },
        "nteract": {
          "transient": {
            "deleting": false
          }
        },
        "gather": {
          "logged": 1712429340106
        }
      }
    }
  ],
  "metadata": {
    "kernelspec": {
      "name": "python310-sdkv2",
      "language": "python",
      "display_name": "Python 3.10 - SDK v2"
    },
    "language_info": {
      "name": "python",
      "version": "3.10.11",
      "mimetype": "text/x-python",
      "codemirror_mode": {
        "name": "ipython",
        "version": 3
      },
      "pygments_lexer": "ipython3",
      "nbconvert_exporter": "python",
      "file_extension": ".py"
    },
    "microsoft": {
      "ms_spell_check": {
        "ms_spell_check_language": "en"
      },
      "host": {
        "AzureML": {
          "notebookHasBeenCompleted": true
        }
      }
    },
    "kernel_info": {
      "name": "python310-sdkv2"
    },
    "nteract": {
      "version": "nteract-front-end@1.0.0"
    }
  },
  "nbformat": 4,
  "nbformat_minor": 2
}